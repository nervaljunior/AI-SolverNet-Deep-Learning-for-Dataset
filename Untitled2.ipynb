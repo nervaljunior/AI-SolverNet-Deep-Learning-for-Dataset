{
  "nbformat": 4,
  "nbformat_minor": 0,
  "metadata": {
    "colab": {
      "provenance": [],
      "authorship_tag": "ABX9TyPifry00y+amjwNVHrb3jCE",
      "include_colab_link": true
    },
    "kernelspec": {
      "name": "python3",
      "display_name": "Python 3"
    },
    "language_info": {
      "name": "python"
    }
  },
  "cells": [
    {
      "cell_type": "markdown",
      "metadata": {
        "id": "view-in-github",
        "colab_type": "text"
      },
      "source": [
        "<a href=\"https://colab.research.google.com/github/nervaljunior/AI-SolverNet-Deep-Learning-for-Dataset/blob/main/Untitled2.ipynb\" target=\"_parent\"><img src=\"https://colab.research.google.com/assets/colab-badge.svg\" alt=\"Open In Colab\"/></a>"
      ]
    },
    {
      "cell_type": "markdown",
      "source": [
        "# Projeto de Coleta e Tratamento de Dados do Sensor ZMTP101B\n",
        "\n",
        "O presente trabalho aborda a importância da coleta e tratamento de dados provenientes da captação de tensão do sensor ZMTP101B. O projeto está dividido em duas partes:\n",
        "\n",
        "## Parte 1: Protocolo MQTT\n",
        "Esta seção apresenta o protocolo MQTT, amplamente utilizado para a coleta de dados em indústrias. Aqui, exploramos os fundamentos do MQTT e sua relevância na captação eficiente de dados.\n",
        "\n",
        "## Parte 2: Aplicação Prática\n",
        "Na segunda parte, descrevemos uma aplicação real que utiliza o protocolo MQTT para coletar informações de um sensor de tensão conectado a uma Esp32. Os dados coletados são enviados para um servidor MQTT, onde são tratados para apresentação em formato gráfico. Essa abordagem torna a compreensão dos dados mais acessível, mesmo para pessoas não familiarizadas com programação.\n"
      ],
      "metadata": {
        "id": "KR0_Yb7-Uy1z"
      }
    },
    {
      "cell_type": "markdown",
      "source": [
        "## Protocolo MQTT e Calibração Estática\n",
        "\n",
        "O sistema utilizará o protocolo MQTT para o envio dos dados obtidos pela ESP32, que contém o sensor ZMTP. Os dados serão salvos em um banco de dados, e através deles, será realizada a calibração estática.\n",
        "\n",
        "Para a calibração estática, seguindo os princípios descritos por Lathi (2008) e Hart (2012), será utilizado o sensor ZMTP101B. A calibração incluirá a determinação do modelo matemático, incluindo a incerteza associada a essa calibração. Além disso, será feita a calibração entre dados do sensor ZMTP (Yrms), valores de tensão do multímetro (Xrms) e os parâmetros \\(a\\) e \\(b\\) da calibração estática.\n",
        "\n",
        "\n"
      ],
      "metadata": {
        "id": "ZuPIC_5_VDAr"
      }
    },
    {
      "cell_type": "markdown",
      "source": [
        "# Calibração Inicial e Procedimento de Medição para o Módulo ZMPT101B\n",
        "\n",
        "## Calibração Inicial\n",
        "\n",
        "Para assegurar a precisão das medições realizadas pelo módulo ZMPT101B, é imperativo realizar uma calibração inicial. O potenciômetro embutido é utilizado para ajustar a amplificação do sinal. Em teoria, o sinal de 250VAC (RMS) deve ser reproduzido como um sinal que varia de 0 a 3,3V, centrado em torno de 1,65V.\n",
        "\n",
        "O potenciômetro ZMPT101B desempenha um papel crucial nessa calibração, permitindo a configuração da amplificação do sinal de acordo com as características específicas do projeto. É essencial considerar as limitações do alcance do sinal para garantir medições precisas.\n",
        "\n",
        "\\[ V_{\\text{saída max}} = \\text{tensão de pico} \\times \\sqrt{2} \\]\n",
        "\n",
        "## Procedimento de Medição\n",
        "\n",
        "O módulo ZMPT101B é conectado ao circuito conforme mostrado na Figura 2, e a medição é realizada em um ambiente controlado. No exemplo apresentado, a tensão de uma lâmpada incandescente conectada a um dimmer de luz baseado em Triac é medida. O usuário pode adaptar o procedimento para medir a tensão desejada, lembrando-se de não ultrapassar os 250VAC.\n",
        "\n",
        "Após a conexão, a tensão máxima é aplicada ao circuito, e os resultados são registrados. Este procedimento permite verificar a capacidade do módulo ZMPT101B em fornecer medições precisas e adaptar-se a diferentes sinais.\n",
        "\n",
        "O Sensor de Tensão AC ZMPT101B é uma ferramenta valiosa em projetos que envolvem medição de tensão alternada. Sua capacidade de adaptação a diferentes sinais, juntamente com a possibilidade de calibração, torna-o uma escolha eficiente para aplicações que exigem precisão nas medições.\n",
        "\n",
        "O módulo ZMPT101B é capaz de adaptar o sinal para evitar danos à placa, o que é essencial para medições TrueRMS."
      ],
      "metadata": {
        "id": "eslSrcRWVigc"
      }
    },
    {
      "cell_type": "markdown",
      "source": [
        "# Análise de Séries de Fourier para Sinais de Tensão Alternada\n",
        "\n",
        "Os sinais de tensão alternada, por sua natureza periódica, podem ser afetados por ruídos de frequências distintas, resultando em distorções na forma de onda. Para compreender o impacto dessas distorções na potência fornecida para uma carga, é essencial decompor os sinais de tensão alternada em séries de Fourier.\n",
        "\n",
        "## Série de Fourier no Modo Exponencial\n",
        "\n",
        "Considere uma função periódica \\( f(t) \\in \\mathbb{R} \\), com período fundamental \\( T_0 \\) e frequência fundamental \\( \\omega_0 = \\frac{2\\pi}{T_0} \\) (em rad/s). A função \\( f(t) \\) pode ser decomposta na série de Fourier no modo exponencial da seguinte forma:\n",
        "\n",
        "\\[ f(t) = \\sum_{n=-\\infty}^{\\infty} D_n e^{jn\\omega_0 t} \\quad (2.2) \\]\n",
        "\n",
        "Onde \\( n \\in \\mathbb{Z} \\) é o índice da harmônica de frequência múltipla de \\( \\omega_0 \\). O coeficiente \\( D_n \\in \\mathbb{C} \\) é calculado como:\n",
        "\n",
        "\\[ D_n = \\frac{1}{T_0} \\int_{0}^{T_0} f(t)e^{-jn\\omega_0t} \\, dt \\quad (2.3) \\]\n",
        "\n",
        "Essa decomposição está matematicamente relacionada à Transformada Discreta de Fourier (TDF). No entanto, essa forma não é ideal para aplicações na teoria de circuitos elétricos.\n",
        "\n",
        "## Forma Trigonométrica Compacta da Série de Fourier\n",
        "\n",
        "Para aplicações na teoria de circuitos elétricos, utiliza-se a forma trigonométrica compacta da série de Fourier. A decomposição de \\( f(t) \\) é expressa como:\n",
        "\n",
        "\\[ f(t) = C_0 + \\sum_{n=1}^{\\infty} C_n \\cos(n\\omega_0 t + \\theta_n) \\quad (2.4) \\]\n",
        "\n",
        "Onde \\( C_n \\) e \\( \\theta_n \\) são os coeficientes de amplitude e fase associados, respectivamente. Cada harmônica está associada a um cosseno, representado por um fasor, cuja amplitude é \\( C_n \\) e a fase é \\( \\theta_n \\).\n",
        "\n",
        "Essa representação em forma trigonométrica compacta permite observar o impacto de cada harmônica de ruído causado por interferências na análise fasorial dos sinais de tensão alternada. Essa característica torna essa forma útil em várias aplicações na teoria de circuitos elétricos e eletrônica, incluindo análise de circuitos elétricos CA, filtros elétricos, circuitos condicionadores de sinais, circuitos de comunicação, conversores CC-CC, entre outros (Alexander; Sadiku, 2013; Dorf; Svoboda, 2016; Hart, 2012; Boylestad; Nashelsky, 2013; Sedra; Smith, 2011)."
      ],
      "metadata": {
        "id": "ixAo2ZD5WNBU"
      }
    },
    {
      "cell_type": "markdown",
      "source": [
        "# Teorema de Parseval para Sinais e Potência\n",
        "\n",
        "O Teorema de Parseval é uma ferramenta poderosa na análise de sinais e potência em sistemas elétricos, proporcionando uma relação entre a potência de um sinal e as componentes da sua série de Fourier. Conforme expresso por Lathi (2008), o termo do lado direito da Equação (2.4) é um sinal de potência. A potência do sinal \\( x(t) \\) é dada pela soma das potências de todas as componentes senoidais do lado direito, formulada como:\n",
        "\n",
        "\\[ P_f = C_0^2 + \\frac{1}{2} \\sum_{n=1}^{\\infty} C_n^2 \\quad (2.5) \\]\n",
        "\n",
        "Segundo Hart (2012), o valor RMS de um sinal periódico \\( f(t) \\) pode ser obtido a partir das componentes da série trigonométrica compacta de Fourier, representado como:\n",
        "\n",
        "\\[ F_{\\text{RMS}} = \\sqrt{P_f} = \\sqrt{\\sqrt{C_0^2 + \\sum_{n=1}^{\\infty} \\left(\\frac{C_n}{\\sqrt{2}}\\right)^2}} \\quad (2.6) \\]\n",
        "\n",
        "Se as formas de ondas periódicas de tensão e corrente são representadas pelas séries de Fourier:\n",
        "\n",
        "\\[ v(t) = V_0 + \\sum_{n=1}^{\\infty} V_n \\cos(n\\omega_0 t + \\theta_n) \\]\n",
        "\n",
        "Este teorema é fundamental na análise de sistemas elétricos, permitindo a determinação eficiente da potência de um sinal e facilitando a avaliação de componentes individuais na série de Fourier em termos de potência."
      ],
      "metadata": {
        "id": "AG1SAkfQWRY1"
      }
    },
    {
      "cell_type": "markdown",
      "source": [
        "# Calibração Estática de Sensores de Tensão\n",
        "\n",
        "A calibração estática de um sensor de tensão, como o ZMTP101B, é uma etapa crucial para garantir a precisão das medições. Essa calibração é realizada comparando os valores lidos pelo sensor com os valores medidos por um instrumento de referência, como um multímetro confiável. A relação entre a saída do sensor (\\(Y_{\\text{sensor}}\\)) e a medida de referência (\\(X_{\\text{multímetro}}\\)) pode ser modelada por uma equação linear:\n",
        "\n",
        "\\[ Y_{\\text{sensor}} = a \\cdot X_{\\text{multímetro}} + b \\]\n",
        "\n",
        "Onde:\n",
        "- \\(Y_{\\text{sensor}}\\) é a leitura do sensor.\n",
        "- \\(X_{\\text{multímetro}}\\) é a medida de referência obtida pelo multímetro.\n",
        "- \\(a\\) e \\(b\\) são os parâmetros da calibração.\n",
        "\n",
        "O objetivo principal é encontrar os valores ideais de \\(a\\) e \\(b\\) que minimizam o erro entre as leituras do sensor e as medidas de referência. Esse processo é realizado por meio de técnicas de regressão linear. Uma vez obtidos os valores de \\(a\\) e \\(b\\), a equação de calibração pode ser utilizada para converter leituras do sensor em valores de referência conhecidos.\n",
        "\n",
        "## Implementação da Regressão Linear\n",
        "\n",
        "A implementação prática desse processo pode ser realizada utilizando algoritmos de regressão linear. A biblioteca `scikit-learn` em Python fornece uma ferramenta eficiente para esse propósito. Abaixo está um exemplo de código para realizar a calibração e visualizar os resultados:\n",
        "\n",
        "```python\n",
        "import numpy as np\n",
        "import matplotlib.pyplot as plt\n",
        "from sklearn.linear_model import LinearRegression\n",
        "\n",
        "\n",
        "Y_sensor =\n",
        "X_multimetro =\n",
        "\n",
        "X_multimetro = X_multimetro.reshape(-1, 1)\n",
        "\n",
        "modelo = LinearRegression()\n",
        "modelo.fit(X_multimetro, Y_sensor)\n",
        "\n",
        "\n",
        "a = modelo.coef_[0]\n",
        "b = modelo.intercept_\n",
        "\n",
        "\n",
        "plt.scatter(X_multimetro, Y_sensor, label='Dados de Calibração')\n",
        "plt.plot(X_multimetro, a * X_multimetro + b, color='red', label='Linha de Regressão')\n",
        "plt.xlabel('Medida de Referência (Multímetro)')\n",
        "plt.ylabel('Leitura do Sensor')\n",
        "plt.legend()\n",
        "plt.show()\n",
        "\n",
        "print(f\"Parâmetros de Calibração: a = {a:.4f}, b = {b:.4f}\")\n",
        "```\n",
        "\n",
        "Esse código utiliza a biblioteca `scikit-learn` para criar um modelo de regressão linear, ajustar os dados de calibração e visualizar a linha de regressão resultante. Os parâmetros de calibração (\\(a\\) e \\(b\\)) são então exibidos. Este é um ponto de partida para a implementação prática da calibração estática de sensores de tensão."
      ],
      "metadata": {
        "id": "dWeFx0dcWhGx"
      }
    },
    {
      "cell_type": "markdown",
      "source": [
        "# Incerteza na Calibração de Sensores de Tensão\n",
        "\n",
        "A incerteza associada ao processo de calibração é uma medida crítica que reflete a confiabilidade dos parâmetros de calibração obtidos. A equação de incerteza associada à calibração, no contexto da equação linear \\(Y_{\\text{sensor}} = a \\cdot X_{\\text{multímetro}} + b\\), é expressa como:\n",
        "\n",
        "\\[ U(Y_{\\text{sensor}}) = \\left( \\frac{\\partial Y_{\\text{sensor}}}{\\partial a} \\cdot U(a) \\right)^2 + \\left( \\frac{\\partial Y_{\\text{sensor}}}{\\partial b} \\cdot U(b) \\right)^2 + U_{\\text{instrumento}}^2 \\]\n",
        "\n",
        "Onde:\n",
        "- \\( U(Y_{\\text{sensor}}) \\) é a incerteza associada à leitura do sensor.\n",
        "- \\( U(a) \\) e \\( U(b) \\) são as incertezas associadas aos parâmetros \\(a\\) e \\(b\\), respectivamente.\n",
        "- \\( U_{\\text{instrumento}} \\) é a incerteza do instrumento de referência.\n",
        "\n",
        "Essa equação considera as variações nos parâmetros \\(a\\) e \\(b\\) e a incerteza do instrumento de referência ao calcular a incerteza associada à leitura do sensor.\n",
        "\n",
        "## Implementação Prática da Incerteza na Calibração\n",
        "\n",
        "A implementação prática da avaliação da incerteza na calibração envolve o cálculo das derivadas parciais \\(\\frac{\\partial Y_{\\text{sensor}}}{\\partial a}\\) e \\(\\frac{\\partial Y_{\\text{sensor}}}{\\partial b}\\), juntamente com as incertezas associadas \\(U(a)\\), \\(U(b)\\) e \\(U_{\\text{instrumento}}\\). Abaixo está um exemplo de código que pode ser utilizado para calcular a incerteza na calibração:\n",
        "\n",
        "```python\n",
        "# Supondo que você já tenha os parâmetros de calibração 'a' e 'b' obtidos\n",
        "\n",
        "# Valores de entrada para o cálculo da incerteza\n",
        "X_multimetro = # Valores de referência do multímetro correspondentes aos dados de calibração\n",
        "Y_sensor_calibrado = a * X_multimetro + b  # Leituras do sensor após calibração\n",
        "\n",
        "# Derivadas parciais\n",
        "dY_da = X_multimetro\n",
        "dY_db = np.ones_like(X_multimetro)\n",
        "\n",
        "# Supondo incertezas associadas (devem ser ajustadas conforme a aplicação)\n",
        "U_a = 0.1\n",
        "U_b = 0.2\n",
        "U_instrumento = 0.05\n",
        "\n",
        "# Cálculo da incerteza\n",
        "U_Y_sensor = np.sqrt((dY_da * U_a)**2 + (dY_db * U_b)**2 + U_instrumento**2)\n",
        "\n",
        "print(f\"Incerteza associada à leitura do sensor: {U_Y_sensor}\")\n",
        "```\n",
        "\n",
        "Este é um exemplo simplificado e é importante adaptar os valores de incerteza de acordo com a aplicação específica e as características dos instrumentos utilizados. A incerteza é uma consideração crucial para garantir a confiabilidade dos resultados obtidos durante o processo de calibração."
      ],
      "metadata": {
        "id": "iEDW9acJWxL6"
      }
    },
    {
      "cell_type": "markdown",
      "source": [
        "# Análise Estatística, Regressão e Avaliação do Erro e Incerteza\n",
        "\n",
        "## Análise Estatística e Regressão\n",
        "\n",
        "A análise estatística e aplicação de regressão são etapas cruciais para ajustar uma curva ou linha aos dados coletados. Essa curva representa a relação entre os valores do sensor e do multímetro em função dos diferentes níveis de pico. O ajuste da curva envolve a identificação dos parâmetros que minimizam o erro, seguindo uma abordagem semelhante à calibração estática mencionada anteriormente.\n",
        "\n",
        "Abaixo está um exemplo de código para realizar a análise estatística e regressão:\n",
        "\n",
        "```python\n",
        "import numpy as np\n",
        "import matplotlib.pyplot as plt\n",
        "from sklearn.linear_model import LinearRegression\n",
        "from sklearn.metrics import mean_squared_error\n",
        "\n",
        "modelo_regressao = LinearRegression()\n",
        "modelo_regressao.fit(X_multimetro.reshape(-1, 1), Y_sensor_calibrado)\n",
        "\n",
        "\n",
        "previsoes = modelo_regressao.predict(X_multimetro.reshape(-1, 1))\n",
        "\n",
        "\n",
        "erro_absoluto = np.abs(Y_sensor_calibrado - X_multimetro)\n",
        "\n",
        "\n",
        "erro_relativo = np.abs((Y_sensor_calibrado - X_multimetro) / X_multimetro) * 100\n",
        "\n",
        "\n",
        "plt.scatter(X_multimetro, Y_sensor_calibrado, label='Dados de Calibração')\n",
        "plt.plot(X_multimetro, previsoes, color='red', label='Linha de Regressão')\n",
        "plt.xlabel('Tensão do Multímetro')\n",
        "plt.ylabel('Leitura do Sensor Calibrado')\n",
        "plt.legend()\n",
        "plt.show()\n",
        "\n",
        "\n",
        "print(f\"Erro Absoluto Médio: {np.mean(erro_absoluto)}\")\n",
        "print(f\"Erro Relativo Médio: {np.mean(erro_relativo)}%\")\n",
        "```\n",
        "\n",
        "## Avaliação do Erro e Incerteza\n",
        "\n",
        "A avaliação do erro envolve o cálculo do erro absoluto e relativo para cada ponto de operação. Além disso, a incerteza associada ao processo de medição deve ser considerada, levando em conta a incerteza do sensor, do multímetro e outras fontes relevantes. Métodos estatísticos ou análise de propagação de incerteza podem ser utilizados para estimar a incerteza global nas medições.\n",
        "\n",
        "Essas considerações são cruciais para garantir a confiabilidade e precisão do processo de calibração e medição."
      ],
      "metadata": {
        "id": "DswKZxe_XBbu"
      }
    },
    {
      "cell_type": "markdown",
      "source": [
        "# Variação do Valor de Pico e Análise de Erro e Incerteza\n",
        "\n",
        "## Variação do Valor de Pico\n",
        "\n",
        "Para realizar a análise da variação do erro e da incerteza em relação aos diferentes níveis de pico da grandeza medida, você pode repetir os passos anteriores para cada conjunto de dados correspondente a diferentes valores de pico. Abaixo, fornecerei um exemplo de como isso pode ser implementado em Python:\n",
        "\n",
        "```python\n",
        "\n",
        "conjuntos_dados_pico = [dados_pico1, dados_pico2, dados_pico3, ...]\n",
        "\n",
        "\n",
        "for i, conjunto_dados in enumerate(conjuntos_dados_pico):\n",
        "\n",
        "    X_multimetro = conjunto_dados['X_multimetro']\n",
        "    Y_sensor_calibrado = conjunto_dados['Y_sensor_calibrado']\n",
        "\n",
        "\n",
        "    plt.scatter(X_multimetro, Y_sensor_calibrado, label=f'Dados de Calibração - Pico {i + 1}')\n",
        "\n",
        "plt.xlabel('Tensão do Multímetro')\n",
        "plt.ylabel('Leitura do Sensor Calibrado')\n",
        "plt.legend()\n",
        "plt.show()\n",
        "```\n",
        "\n",
        "## Cálculo do Valor Eficaz (RMS)\n",
        "\n",
        "Para calcular o valor eficaz (RMS) com base nos dados coletados, você pode utilizar a fórmula fornecida:\n",
        "\n",
        "```python\n",
        "def calcular_rms(valores):\n",
        "    return np.sqrt(np.mean(valores**2))\n",
        "\n",
        "\n",
        "valores_amostras = conjunto_dados['valores_amostras']\n",
        "\n",
        "\n",
        "rms = calcular_rms(valores_amostras)\n",
        "print(f\"Valor Eficaz (RMS): {rms}\")\n",
        "```\n",
        "\n",
        "Lembre-se de adaptar esses códigos conforme necessário com base na estrutura específica dos seus dados e requisitos."
      ],
      "metadata": {
        "id": "nzbJMS5mXEU9"
      }
    },
    {
      "cell_type": "code",
      "execution_count": 1,
      "metadata": {
        "colab": {
          "base_uri": "https://localhost:8080/",
          "height": 536
        },
        "id": "08Wj7icRKexr",
        "outputId": "b1766c60-0435-469d-c06b-a17d95e3fbce"
      },
      "outputs": [
        {
          "output_type": "stream",
          "name": "stdout",
          "text": [
            "Erro Médio: -0.0000\n",
            "Variância: 0.8175\n",
            "Desvio Padrão: 0.9042\n",
            "Intervalo de Confiança (95%): (-0.25957353414323314, 0.2595735341432144)\n",
            "Teste t de Student para a inclinação (a): t = 1720.3701, p-value = 0.0000\n"
          ]
        },
        {
          "output_type": "display_data",
          "data": {
            "text/plain": [
              "<Figure size 640x480 with 1 Axes>"
            ],
            "image/png": "[encoded data removed]"
          },
          "metadata": {}
        }
      ],
      "source": [
        "\n",
        "import numpy as np\n",
        "import matplotlib.pyplot as plt\n",
        "from sklearn.linear_model import LinearRegression\n",
        "from sklearn.metrics import mean_squared_error\n",
        "from scipy import stats\n",
        "\n",
        "\n",
        "\n",
        "valor_multimetro = np.array([2.1, 4.3, 6.2, 8.5, 10.1, 11.8, 13.7, 15.2, 17.1, 19.3,\n",
        "                              21.5, 23.8, 25.1, 27.3, 29.6, 31.7, 33.8, 36.2, 38.4, 40.5,\n",
        "                              42.8, 45.1, 47.3, 49.6, 51.9, 54.2, 56.4, 58.7, 61.0, 63.3,\n",
        "                              65.7, 67.9, 70.2, 72.5, 74.7, 76.9, 79.1, 81.5, 83.7, 86.0,\n",
        "                              88.3, 90.5, 92.7, 95.0, 97.3, 99.5, 101.8, 104.1, 106.4, 108.6])\n",
        "\n",
        "tensao_sensor = valor_multimetro + np.random.normal(0, 1, len(valor_multimetro))\n",
        "\n",
        "\n",
        "\n",
        "X = tensao_sensor.reshape(-1, 1)\n",
        "y = valor_multimetro\n",
        "\n",
        "\n",
        "modelo = LinearRegression()\n",
        "modelo.fit(X, y)\n",
        "\n",
        "\n",
        "previsoes = modelo.predict(X)\n",
        "\n",
        "\n",
        "erro_medio = np.mean(previsoes - y)\n",
        "variancia = np.var(previsoes - y)\n",
        "desvio_padrao = np.std(previsoes - y)\n",
        "intervalo_confianca = stats.t.interval(0.95, len(previsoes) - 1, loc=np.mean(previsoes - y), scale=stats.sem(previsoes - y))\n",
        "\n",
        "\n",
        "coeficiente_inclinacao, intercept, r_value, p_value, std_err = stats.linregress(tensao_sensor, valor_multimetro)\n",
        "t_teste_a = coeficiente_inclinacao / (std_err / np.sqrt(len(tensao_sensor)))\n",
        "\n",
        "\n",
        "print(f\"Erro Médio: {erro_medio:.4f}\")\n",
        "print(f\"Variância: {variancia:.4f}\")\n",
        "print(f\"Desvio Padrão: {desvio_padrao:.4f}\")\n",
        "print(f\"Intervalo de Confiança (95%): {intervalo_confianca}\")\n",
        "print(f\"Teste t de Student para a inclinação (a): t = {t_teste_a:.4f}, p-value = {p_value:.4f}\")\n",
        "\n",
        "\n",
        "plt.scatter(tensao_sensor, valor_multimetro, label='Dados de Calibração')\n",
        "plt.plot(tensao_sensor, previsoes, color='red', label='Linha de Regressão')\n",
        "plt.xlabel('Tensão do Sensor')\n",
        "plt.ylabel('Valor no Multímetro')\n",
        "plt.legend()\n",
        "plt.show()\n"
      ]
    },
    {
      "cell_type": "code",
      "source": [
        "modelo = LinearRegression().fit(X, y)\n",
        "\n",
        "# Obtendo os coeficientes da regressão\n",
        "a = modelo.coef_[0]\n",
        "b = modelo.intercept_\n",
        "\n",
        "# Valores medidos pelo sensor\n",
        "Y_sensor = modelo.predict(X)\n",
        "\n",
        "# Incertezas associadas\n",
        "U_a = 0.1  # Substitua pela incerteza associada a 'a'\n",
        "U_b = 0.2  # Substitua pela incerteza associada a 'b'\n",
        "U_instrumento = 0.3  # Substitua pela incerteza do instrumento de referência\n",
        "\n",
        "# Derivadas parciais\n",
        "dY_da = X\n",
        "dY_db = np.ones_like(X)\n",
        "\n",
        "# Incerteza associada à calibração\n",
        "U_Y_sensor = np.sqrt((dY_da * U_a)**2 + (dY_db * U_b)**2 + U_instrumento**2)\n",
        "\n",
        "# Imprimindo os resultados\n",
        "print(f\"Coeficiente 'a': {a:.4f}\")\n",
        "print(f\"Coeficiente 'b': {b:.4f}\")\n",
        "print(f\"Incerteza associada a 'a': {U_a}\")\n",
        "print(f\"Incerteza associada a 'b': {U_b}\")\n",
        "print(f\"Incerteza do instrumento: {U_instrumento}\")\n",
        "print(f\"Incerteza associada à calibração: {np.mean(U_Y_sensor):.4f}\")"
      ],
      "metadata": {
        "colab": {
          "base_uri": "https://localhost:8080/"
        },
        "id": "LPhrP9VR5Jvo",
        "outputId": "dfac21ec-df48-4a9d-9ef3-8102d70d3561"
      },
      "execution_count": 6,
      "outputs": [
        {
          "output_type": "stream",
          "name": "stdout",
          "text": [
            "Coeficiente 'a': 1.0065\n",
            "Coeficiente 'b': -0.3195\n",
            "Incerteza associada a 'a': 0.1\n",
            "Incerteza associada a 'b': 0.2\n",
            "Incerteza do instrumento: 0.3\n",
            "Incerteza associada à calibração: 5.3988\n"
          ]
        }
      ]
    },
    {
      "cell_type": "code",
      "source": [
        "X = tensao_sensor.reshape(-1, 1)\n",
        "y = valor_multimetro\n",
        "\n",
        "\n",
        "modelo = LinearRegression().fit(X, y)\n",
        "\n",
        "\n",
        "Y_sensor = modelo.predict(X)\n",
        "\n",
        "\n",
        "erro_absoluto = np.abs(Y_sensor - valor_multimetro)\n",
        "\n",
        "\n",
        "erro_relativo = np.abs((Y_sensor - valor_multimetro) / valor_multimetro) * 100\n",
        "\n",
        "\n",
        "U_sensor = 0.1\n",
        "U_multimetro = 0.2\n",
        "\n",
        "\n",
        "U_erro_absoluto = np.sqrt(U_sensor**2 + U_multimetro**2)\n",
        "\n",
        "\n",
        "print(f\"Erro Absoluto Médio: {np.mean(erro_absoluto):.4f}\")\n",
        "print(f\"Erro Relativo Médio: {np.mean(erro_relativo):.4f}%\")\n",
        "print(f\"Incerteza do Sensor: {U_sensor}\")\n",
        "print(f\"Incerteza do Multímetro: {U_multimetro}\")\n",
        "print(f\"Incerteza na Propagação para Erro Absoluto: {np.mean(U_erro_absoluto):.4f}\")"
      ],
      "metadata": {
        "colab": {
          "base_uri": "https://localhost:8080/"
        },
        "id": "NpBTQSLuT6wA",
        "outputId": "068f2c37-0c5a-4826-ce45-ec77143e41e2"
      },
      "execution_count": 8,
      "outputs": [
        {
          "output_type": "stream",
          "name": "stdout",
          "text": [
            "Erro Absoluto Médio: 0.7097\n",
            "Erro Relativo Médio: 2.8811%\n",
            "Incerteza do Sensor: 0.1\n",
            "Incerteza do Multímetro: 0.2\n",
            "Incerteza na Propagação para Erro Absoluto: 0.2236\n"
          ]
        }
      ]
    },
    {
      "cell_type": "markdown",
      "source": [
        "## Métodos de Mínimos Quadrados na Calibração\n",
        "\n",
        "### Sumário\n",
        "\n",
        "1. **Introdução**\n",
        "   - Breve explicação sobre o método dos mínimos quadrados e sua aplicação na calibração de sensores.\n",
        "\n",
        "2. **Equação da Soma Quadrática Residual (SQr)**\n",
        "   - Definição da equação SQr, que representa a soma dos quadrados dos resíduos, sendo \\(e_i = y_i - (y_e)_i\\).\n",
        "\n",
        "3. **Minimização da SQr para \\(b_0\\) e \\(b_1\\)**\n",
        "   - Procedimento para minimizar a SQr, derivando-a em relação a \\(b_0\\) e \\(b_1\\) e igualando as derivadas a zero.\n",
        "\n",
        "4. **Expressões para \\(b_0\\) e \\(b_1\\)**\n",
        "   - Resultado do processo de minimização, fornecendo as expressões finais para \\(b_0\\) e \\(b_1\\).\n",
        "\n",
        "### 1. Introdução\n",
        "\n",
        "O método dos mínimos quadrados é amplamente utilizado na calibração de sensores, oferecendo resultados não tendenciosos e com variância mínima, sob certas suposições estatísticas. No contexto da calibração de sensores, esse método é aplicado para encontrar os parâmetros \\(b_0\\) e \\(b_1\\) que minimizam a soma dos quadrados dos resíduos.\n",
        "\n",
        "### 2. Equação da Soma Quadrática Residual (SQr)\n",
        "\n",
        "A SQr é definida pela equação:\n",
        "\n",
        "\\[ SQr = \\sum_{i=1}^{n} (y_i - (y_e)_i)^2 = \\sum_{i=1}^{n} (y_i - b_0 - b_1x_i)^2 \\]\n",
        "\n",
        "Onde \\(n\\) representa o número total de medidas, e os índices foram omitidos do símbolo do somatório para simplificação.\n",
        "\n",
        "### 3. Minimização da SQr para \\(b_0\\) e \\(b_1\\)\n",
        "\n",
        "Para minimizar a SQr, derivamos a Eq. (4) em relação a \\(b_0\\) e \\(b_1\\) e igualamos as derivadas a zero. Esse processo leva às expressões:\n",
        "\n",
        "### 4. Expressões para \\(b_0\\) e \\(b_1\\)\n",
        "\n",
        "As expressões finais para \\(b_0\\) e \\(b_1\\) são dadas por:\n",
        "\n",
        "\\[ b_0 = \\frac{\\sum y_i - b_1\\sum x_i}{n} \\]\n",
        "\n",
        "\\[ b_1 = \\frac{n\\sum y_i x_i - \\sum x_i \\sum y_i}{n\\sum (x_i)^2 - (\\sum x_i)^2} \\]\n",
        "\n",
        "Essas expressões representam os parâmetros da calibração que minimizam a soma dos quadrados dos resíduos, proporcionando uma calibração robusta e confiável para os sensores em análise.\n",
        "\n",
        "---\n",
        "\n",
        "*Observação: Os trechos citados foram resumidos e adaptados para melhor encaixe na descrição. Caso deseje ajustes específicos ou acréscimos, por favor, informe.*"
      ],
      "metadata": {
        "id": "G5G2fpTCah8r"
      }
    },
    {
      "cell_type": "markdown",
      "source": [
        "## Intervalo de Confiança e Probabilidade Associada\n",
        "\n",
        "### Sumário\n",
        "\n",
        "1. **Introdução**\n",
        "   - Breve explicação sobre o desvio padrão (\\(\\sigma\\)) como medida de qualidade das medições.\n",
        "\n",
        "2. **Intervalo de Confiança e Probabilidade**\n",
        "   - Descrição dos intervalos de confiança, relacionando-os aos valores do desvio padrão e à probabilidade de encontrar medidas dentro desses intervalos.\n",
        "\n",
        "### 1. Introdução\n",
        "\n",
        "O desvio padrão (\\(\\sigma\\)) é uma medida crucial que permite quantificar a qualidade das medições, indicando a dispersão dos dados em relação ao valor médio. Essa informação é essencial para compreender a incerteza associada às medidas.\n",
        "\n",
        "### 2. Intervalo de Confiança e Probabilidade\n",
        "\n",
        "O quadro abaixo ilustra a relação entre intervalos da variável, fatores de confiança (\\(\\alpha\\)), e a probabilidade de encontrar as medidas dentro desses intervalos:\n",
        "\n",
        "| Intervalo      | Fator de Confiança (\\(\\alpha\\)) | Probabilidade  |\n",
        "| -------------- | ------------------------------- | --------------- |\n",
        "| \\([-σ, +σ]\\)   | \\(\\alpha = 0,683\\)               | \\(68,3\\%\\)      |\n",
        "| \\([-2σ, +2σ]\\) | \\(\\alpha = 0,954\\)               | \\(95,4\\%\\)      |\n",
        "| \\([-3σ, +3σ]\\) | \\(\\alpha = 0,997\\)               | \\(99,7\\%\\)      |\n",
        "\n",
        "Assim, praticamente todas as flutuações aleatórias dos valores medidos se situam na faixa de \\(\\{x ± 3σ\\}\\), representando um fator de confiança (\\(\\alpha\\)) de \\(0,997\\). Em termos práticos, isso significa que apenas 3 em cada 1000 medidas podem estar fora dessa faixa. Geralmente, medidas além desse limite são consideradas mais do que erros aleatórios, sendo tratadas como enganos.\n",
        "\n",
        "---\n",
        "\n",
        "*Observação: O trecho citado foi resumido e adaptado para melhor encaixe na descrição. Caso deseje ajustes específicos ou acréscimos, por favor, informe.*"
      ],
      "metadata": {
        "id": "dREHyiQNb4Cf"
      }
    },
    {
      "cell_type": "code",
      "source": [
        "import numpy as np\n",
        "from scipy.stats import norm\n",
        "import matplotlib.path as mpath\n",
        "import matplotlib.patches as mpatches\n",
        "import matplotlib.pyplot as plt"
      ],
      "metadata": {
        "id": "P1-05vj2cQ7j"
      },
      "execution_count": 9,
      "outputs": []
    },
    {
      "cell_type": "code",
      "source": [
        "mu = 10\n",
        "sigma = 2\n",
        "x = 13\n",
        "x_pdf = np.linspace(-5,25,100)\n",
        "X_g13_patch = np.linspace(13,25,100)"
      ],
      "metadata": {
        "id": "5E7809hqdzdO"
      },
      "execution_count": 10,
      "outputs": []
    },
    {
      "cell_type": "code",
      "source": [
        "normal_pdf = norm.pdf(x_pdf,loc=mu,scale=sigma)\n",
        "normal_pdf_X_g13_patch = norm.pdf(X_g13_patch,loc=mu,scale=sigma)"
      ],
      "metadata": {
        "id": "IhAvloS-d0GJ"
      },
      "execution_count": 11,
      "outputs": []
    },
    {
      "cell_type": "code",
      "source": [
        "fig,ax=plt.subplots()\n",
        "ax.plot(x_pdf,normal_pdf,label=r'$f(x)=\\dfrac{1}{\\sigma\\sqrt{2\\pi}}e^{-\\frac{1}{2}\\left(\\frac{x-\\mu}{\\sigma}\\right)^{2}}$')\n",
        "x_verts = np.concatenate(([13],X_g13_patch,[25,13]))\n",
        "y_verts = np.concatenate(([0],normal_pdf_X_g13_patch,[0,0]))\n",
        "verts = np.transpose(np.matrix([x_verts,y_verts]))\n",
        "#print(verts)\n",
        "#print(verts.shape)\n",
        "path = mpath.Path(verts)\n",
        "pathpatch = mpatches.PathPatch(path,label=r'$P(X>13)=1-\\int_{-\\infty}^{13}{f(x)dx}$')\n",
        "ax.add_patch(pathpatch)\n",
        "ax.set_xlabel(r'$x\\in{}X$')\n",
        "ax.set_ylabel(r'$f(x)$')\n",
        "ax.set_title(r'Probabilidade $P(X>13)='+str(prob_X_g13)+'$')\n",
        "ax.legend(loc=2)\n",
        "\n",
        "plt.show()"
      ],
      "metadata": {
        "colab": {
          "base_uri": "https://localhost:8080/",
          "height": 677
        },
        "id": "ktnuoffed2Uk",
        "outputId": "273cae50-6882-4d33-a68f-54dcfdcd7b0f"
      },
      "execution_count": 12,
      "outputs": [
        {
          "output_type": "error",
          "ename": "NameError",
          "evalue": "ignored",
          "traceback": [
            "\u001b[0;31m---------------------------------------------------------------------------\u001b[0m",
            "\u001b[0;31mNameError\u001b[0m                                 Traceback (most recent call last)",
            "\u001b[0;32m<ipython-input-12-1dc51da75f98>\u001b[0m in \u001b[0;36m<cell line: 13>\u001b[0;34m()\u001b[0m\n\u001b[1;32m     11\u001b[0m \u001b[0max\u001b[0m\u001b[0;34m.\u001b[0m\u001b[0mset_xlabel\u001b[0m\u001b[0;34m(\u001b[0m\u001b[0;34mr'$x\\in{}X$'\u001b[0m\u001b[0;34m)\u001b[0m\u001b[0;34m\u001b[0m\u001b[0;34m\u001b[0m\u001b[0m\n\u001b[1;32m     12\u001b[0m \u001b[0max\u001b[0m\u001b[0;34m.\u001b[0m\u001b[0mset_ylabel\u001b[0m\u001b[0;34m(\u001b[0m\u001b[0;34mr'$f(x)$'\u001b[0m\u001b[0;34m)\u001b[0m\u001b[0;34m\u001b[0m\u001b[0;34m\u001b[0m\u001b[0m\n\u001b[0;32m---> 13\u001b[0;31m \u001b[0max\u001b[0m\u001b[0;34m.\u001b[0m\u001b[0mset_title\u001b[0m\u001b[0;34m(\u001b[0m\u001b[0;34mr'Probabilidade $P(X>13)='\u001b[0m\u001b[0;34m+\u001b[0m\u001b[0mstr\u001b[0m\u001b[0;34m(\u001b[0m\u001b[0mprob_X_g13\u001b[0m\u001b[0;34m)\u001b[0m\u001b[0;34m+\u001b[0m\u001b[0;34m'$'\u001b[0m\u001b[0;34m)\u001b[0m\u001b[0;34m\u001b[0m\u001b[0;34m\u001b[0m\u001b[0m\n\u001b[0m\u001b[1;32m     14\u001b[0m \u001b[0max\u001b[0m\u001b[0;34m.\u001b[0m\u001b[0mlegend\u001b[0m\u001b[0;34m(\u001b[0m\u001b[0mloc\u001b[0m\u001b[0;34m=\u001b[0m\u001b[0;36m2\u001b[0m\u001b[0;34m)\u001b[0m\u001b[0;34m\u001b[0m\u001b[0;34m\u001b[0m\u001b[0m\n\u001b[1;32m     15\u001b[0m \u001b[0;34m\u001b[0m\u001b[0m\n",
            "\u001b[0;31mNameError\u001b[0m: name 'prob_X_g13' is not defined"
          ]
        },
        {
          "output_type": "display_data",
          "data": {
            "text/plain": [
              "<Figure size 640x480 with 1 Axes>"
            ],
            "image/png": "[encoded data removed]"
          },
          "metadata": {}
        }
      ]
    },
    {
      "cell_type": "code",
      "source": [
        "import numpy as np\n",
        "import matplotlib.pyplot as plt\n",
        "from scipy.stats import t\n",
        "\n",
        "def calculate_uncertainty_type_a(values):\n",
        "    mean = np.mean(values)\n",
        "    standard_deviation = np.std(values, ddof=1)\n",
        "    uncertainty_type_a = standard_deviation / np.sqrt(len(values))\n",
        "    return uncertainty_type_a\n",
        "\n",
        "def calculate_combined_uncertainty(uncertainty_type_a, uncertainty_type_b):\n",
        "    combined_uncertainty = np.sqrt(uncertainty_type_a**2 + uncertainty_type_b**2)\n",
        "    return combined_uncertainty\n",
        "\n",
        "def calculate_expanded_uncertainty(combined_uncertainty, coverage_factor):\n",
        "    expanded_uncertainty = combined_uncertainty * coverage_factor\n",
        "    return expanded_uncertainty\n",
        "\n",
        "def calculate_tolerance_interval(mean, expanded_uncertainty):\n",
        "    lower_bound = mean - expanded_uncertainty\n",
        "    upper_bound = mean + expanded_uncertainty\n",
        "    return lower_bound, upper_bound\n",
        "\n",
        "# Dados de exemplo (substitua pelos valores reais)\n",
        "measurement_values = np.array([48.9, 49.1, 50.0, 49.8, 50.2])\n",
        "reference_value = 50.0\n",
        "tolerance = 1.0\n",
        "\n",
        "# Cálculos\n",
        "mean_measurement = np.mean(measurement_values)\n",
        "uncertainty_type_a = calculate_uncertainty_type_a(measurement_values)\n",
        "uncertainty_type_b = 0.1  # Substitua pelo valor real\n",
        "combined_uncertainty = calculate_combined_uncertainty(uncertainty_type_a, uncertainty_type_b)\n",
        "\n",
        "# Fator de cobertura (k) para confiança de 95%\n",
        "degrees_of_freedom = len(measurement_values) - 1\n",
        "coverage_factor = t.ppf(0.975, degrees_of_freedom)\n",
        "\n",
        "expanded_uncertainty = calculate_expanded_uncertainty(combined_uncertainty, coverage_factor)\n",
        "lower_bound, upper_bound = calculate_tolerance_interval(mean_measurement, expanded_uncertainty)\n",
        "\n",
        "# Resultados\n",
        "print(\"Média da medição:\", mean_measurement)\n",
        "print(\"Incerteza Tipo A:\", uncertainty_type_a)\n",
        "print(\"Incerteza Tipo B:\", uncertainty_type_b)\n",
        "print(\"Incerteza Combinada:\", combined_uncertainty)\n",
        "print(\"Fator de Cobertura (k):\", coverage_factor)\n",
        "print(\"Incerteza Expandida:\", expanded_uncertainty)\n",
        "print(\"Intervalo de Confiança (95%): [{:.4f}, {:.4f}]\".format(lower_bound, upper_bound))\n",
        "\n",
        "# Gráfico\n",
        "plt.errorbar(np.arange(len(measurement_values)), measurement_values, yerr=uncertainty_type_a, fmt='o', label='Medições')\n",
        "plt.axhline(y=mean_measurement, color='r', linestyle='--', label='Média')\n",
        "plt.fill_between(np.arange(len(measurement_values)), lower_bound, upper_bound, color='yellow', alpha=0.3, label='Intervalo de Confiança (95%)')\n",
        "plt.xlabel('Amostras')\n",
        "plt.ylabel('Valores Medidos')\n",
        "plt.legend()\n",
        "plt.show()\n"
      ],
      "metadata": {
        "colab": {
          "base_uri": "https://localhost:8080/",
          "height": 571
        },
        "id": "MpA9gqfQd6Lq",
        "outputId": "76f8a8bc-fa2b-490b-f39d-c09cd12da331"
      },
      "execution_count": 13,
      "outputs": [
        {
          "output_type": "stream",
          "name": "stdout",
          "text": [
            "Média da medição: 49.6\n",
            "Incerteza Tipo A: 0.2549509756796395\n",
            "Incerteza Tipo B: 0.1\n",
            "Incerteza Combinada: 0.27386127875258326\n",
            "Fator de Cobertura (k): 2.7764451051977987\n",
            "Incerteza Expandida: 0.7603608068958198\n",
            "Intervalo de Confiança (95%): [48.8396, 50.3604]\n"
          ]
        },
        {
          "output_type": "display_data",
          "data": {
            "text/plain": [
              "<Figure size 640x480 with 1 Axes>"
            ],
            "image/png": "[encoded data removed]"
          },
          "metadata": {}
        }
      ]
    },
    {
      "cell_type": "markdown",
      "source": [
        "## Referências\n",
        "\n",
        "- Oliveira, A. (2017). Título do Artigo. Nome da Revista, Volume(Issue), Páginas.\n",
        "- Deckmann, S. M., & Pomilio, J. A. (2017). Título do Livro. Editora.\n",
        "- Hart, C. (2012). Título do Livro. Editora.\n",
        "- Lathi, B. P. (2008). Título do Livro. Editora."
      ],
      "metadata": {
        "id": "heOko9_J06rr"
      }
    }
  ]
}