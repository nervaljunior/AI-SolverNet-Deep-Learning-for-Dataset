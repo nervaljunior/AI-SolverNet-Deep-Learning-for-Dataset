{
  "nbformat": 4,
  "nbformat_minor": 0,
  "metadata": {
    "colab": {
      "provenance": [],
      "authorship_tag": "ABX9TyMItWtQmO2ABcjTzPvthZ8e",
      "include_colab_link": true
    },
    "kernelspec": {
      "name": "python3",
      "display_name": "Python 3"
    },
    "language_info": {
      "name": "python"
    }
  },
  "cells": [
    {
      "cell_type": "markdown",
      "metadata": {
        "id": "view-in-github",
        "colab_type": "text"
      },
      "source": [
        "<a href=\"https://colab.research.google.com/github/nervaljunior/AI-SolverNet-Deep-Learning-for-Dataset/blob/main/Untitled2.ipynb\" target=\"_parent\"><img src=\"https://colab.research.google.com/assets/colab-badge.svg\" alt=\"Open In Colab\"/></a>"
      ]
    },
    {
      "cell_type": "code",
      "execution_count": null,
      "metadata": {
        "id": "08Wj7icRKexr"
      },
      "outputs": [],
      "source": [
        "# Importando bibliotecas necessárias\n",
        "import numpy as np\n",
        "import matplotlib.pyplot as plt\n",
        "from sklearn.linear_model import LinearRegression\n",
        "from sklearn.metrics import mean_squared_error\n",
        "from scipy import stats\n",
        "\n",
        "\n",
        "\n",
        "valor_multimetro = np.array([2.1, 4.3, 6.2, 8.5, 10.1, 11.8, 13.7, 15.2, 17.1, 19.3,\n",
        "                              21.5, 23.8, 25.1, 27.3, 29.6, 31.7, 33.8, 36.2, 38.4, 40.5,\n",
        "                              42.8, 45.1, 47.3, 49.6, 51.9, 54.2, 56.4, 58.7, 61.0, 63.3,\n",
        "                              65.7, 67.9, 70.2, 72.5, 74.7, 76.9, 79.1, 81.5, 83.7, 86.0,\n",
        "                              88.3, 90.5, 92.7, 95.0, 97.3, 99.5, 101.8, 104.1, 106.4, 108.6])\n",
        "\n",
        "tensao_sensor = valor_multimetro + np.random.normal(0, 1, len(valor_multimetro))\n",
        "\n",
        "\n",
        "# Criando uma matriz de recursos (X) e um vetor alvo (y)\n",
        "X = tensao_sensor.reshape(-1, 1)\n",
        "y = valor_multimetro\n",
        "\n",
        "# Criando e treinando o modelo de regressão linear\n",
        "modelo = LinearRegression()\n",
        "modelo.fit(X, y)\n",
        "\n",
        "# Fazendo previsões com o modelo treinado\n",
        "previsoes = modelo.predict(X)\n",
        "\n",
        "# Calculando estatísticas\n",
        "erro_medio = np.mean(previsoes - y)\n",
        "variancia = np.var(previsoes - y)\n",
        "desvio_padrao = np.std(previsoes - y)\n",
        "intervalo_confianca = stats.t.interval(0.95, len(previsoes) - 1, loc=np.mean(previsoes - y), scale=stats.sem(previsoes - y))\n",
        "\n",
        "# Teste t de Student para a inclinação da reta (a)\n",
        "coeficiente_inclinacao, intercept, r_value, p_value, std_err = stats.linregress(tensao_sensor, valor_multimetro)\n",
        "t_teste_a = coeficiente_inclinacao / (std_err / np.sqrt(len(tensao_sensor)))\n",
        "\n",
        "# Imprimindo resultados\n",
        "print(f\"Erro Médio: {erro_medio:.4f}\")\n",
        "print(f\"Variância: {variancia:.4f}\")\n",
        "print(f\"Desvio Padrão: {desvio_padrao:.4f}\")\n",
        "print(f\"Intervalo de Confiança (95%): {intervalo_confianca}\")\n",
        "print(f\"Teste t de Student para a inclinação (a): t = {t_teste_a:.4f}, p-value = {p_value:.4f}\")\n",
        "\n",
        "# Plotando os dados e a linha de regressão\n",
        "plt.scatter(tensao_sensor, valor_multimetro, label='Dados de Calibração')\n",
        "plt.plot(tensao_sensor, previsoes, color='red', label='Linha de Regressão')\n",
        "plt.xlabel('Tensão do Sensor')\n",
        "plt.ylabel('Valor no Multímetro')\n",
        "plt.legend()\n",
        "plt.show()\n"
      ]
    }
  ]
}