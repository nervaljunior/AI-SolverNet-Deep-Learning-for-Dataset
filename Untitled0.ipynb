{
  "nbformat": 4,
  "nbformat_minor": 0,
  "metadata": {
    "colab": {
      "provenance": [],
      "gpuType": "T4",
      "include_colab_link": true
    },
    "kernelspec": {
      "name": "python3",
      "display_name": "Python 3"
    },
    "language_info": {
      "name": "python"
    },
    "accelerator": "GPU"
  },
  "cells": [
    {
      "cell_type": "markdown",
      "metadata": {
        "id": "view-in-github",
        "colab_type": "text"
      },
      "source": [
        "<a href=\"https://colab.research.google.com/github/nervaljunior/AI-SolverNet-Deep-Learning-for-Dataset/blob/main/Untitled0.ipynb\" target=\"_parent\"><img src=\"https://colab.research.google.com/assets/colab-badge.svg\" alt=\"Open In Colab\"/></a>"
      ]
    },
    {
      "cell_type": "code",
      "source": [
        "import pandas as pd\n",
        "import numpy as np\n",
        "import matplotlib\n",
        "import matplotlib.pyplot as plt\n",
        "import plotly.express as px\n",
        "import random"
      ],
      "metadata": {
        "id": "7Mzal0rPIieL"
      },
      "execution_count": null,
      "outputs": []
    },
    {
      "cell_type": "code",
      "source": [
        "from google.colab import drive\n",
        "\n",
        "drive.mount('/content/drive')"
      ],
      "metadata": {
        "colab": {
          "base_uri": "https://localhost:8080/"
        },
        "id": "ShFBn5Lo_ZyF",
        "outputId": "2e5731f6-4e48-4504-953c-f896b86a919d"
      },
      "execution_count": null,
      "outputs": [
        {
          "output_type": "stream",
          "name": "stdout",
          "text": [
            "Mounted at /content/drive\n"
          ]
        }
      ]
    },
    {
      "cell_type": "code",
      "source": [
        "df_treinamento_supervisionado = pd.read_csv('/content/drive/MyDrive/IA/TRABALHO/Base_Treinamento_Supervisionado.csv', encoding=\"ISO-8859-1\",sep=\";\")\n",
        "df_treinamento_supervisionado.tail()"
      ],
      "metadata": {
        "colab": {
          "base_uri": "https://localhost:8080/",
          "height": 427
        },
        "id": "QbTfe6ts_ziE",
        "outputId": "603beb3d-181d-463a-bebb-74753b8af3c0"
      },
      "execution_count": null,
      "outputs": [
        {
          "output_type": "execute_result",
          "data": {
            "text/plain": [
              "             Município    IFGF Total de receitas realizadas (R$x1000)  \\\n",
              "166      Vargem Grande   0,297                               95867,34   \n",
              "167              Viana  0,3078                               92120,11   \n",
              "168  Vitória do Mearim   0,433                               92120,11   \n",
              "169    Vitorino Freire  0,3137                               92120,11   \n",
              "170            Zé Doca  0,5691                               92120,11   \n",
              "\n",
              "    Total de despesas empenhadas (R$x1000)   IDHm PIB per capita  \\\n",
              "166                               92155,89  0,542        6630,45   \n",
              "167                               89952,74  0,618        8663,99   \n",
              "168                               60752,47  0,596        7895,55   \n",
              "169                               62014,71   0,57        8444,18   \n",
              "170                               84989,72  0,595        8779,78   \n",
              "\n",
              "    Percentual das receitas oriundas de fontes externas (%)  Área territorial  \\\n",
              "166                                                NaN                1958702   \n",
              "167                                               94,8                1166745   \n",
              "168                                               91,5                 716719   \n",
              "169                                                NaN                1193385   \n",
              "170                                               96,2                2140109   \n",
              "\n",
              "     População  Pessoal ocupado Percentual população ocupada Área Urbanizada  \\\n",
              "166      57813             2575                          4,5            7,96   \n",
              "167      52852             2521                          4,8             8,8   \n",
              "168      32956             1558                          4,7             6,4   \n",
              "169      31520             2098                          6,7            6,57   \n",
              "170      52190             3225                          6,2           11,31   \n",
              "\n",
              "    Salário Médio dos trabalhadores (xSalário mínimo)  \\\n",
              "166                                                 2   \n",
              "167                                               1,9   \n",
              "168                                               1,9   \n",
              "169                                                 2   \n",
              "170                                               1,7   \n",
              "\n",
              "     Matrículas no ensino fundamental  Matrículas no ensino médio  \\\n",
              "166                              8200                        1740   \n",
              "167                              8708                        2298   \n",
              "168                              5296                        1685   \n",
              "169                              4563                        1367   \n",
              "170                              7021                        1852   \n",
              "\n",
              "     Docentes no ensino fundamental  Docentes no ensino médio  \\\n",
              "166                             346                       136   \n",
              "167                             511                        94   \n",
              "168                             361                        72   \n",
              "169                             375                        67   \n",
              "170                             483                       154   \n",
              "\n",
              "    Mortalidade Infantil  \n",
              "166                 9,78  \n",
              "167                14,07  \n",
              "168                10,89  \n",
              "169                16,24  \n",
              "170                19,89  "
            ],
            "text/html": [
              "\n",
              "  <div id=\"df-9437d099-5cb8-4052-b70b-f7ede92e74f6\">\n",
              "    <div class=\"colab-df-container\">\n",
              "      <div>\n",
              "<style scoped>\n",
              "    .dataframe tbody tr th:only-of-type {\n",
              "        vertical-align: middle;\n",
              "    }\n",
              "\n",
              "    .dataframe tbody tr th {\n",
              "        vertical-align: top;\n",
              "    }\n",
              "\n",
              "    .dataframe thead th {\n",
              "        text-align: right;\n",
              "    }\n",
              "</style>\n",
              "<table border=\"1\" class=\"dataframe\">\n",
              "  <thead>\n",
              "    <tr style=\"text-align: right;\">\n",
              "      <th></th>\n",
              "      <th>Município</th>\n",
              "      <th>IFGF</th>\n",
              "      <th>Total de receitas realizadas (R$x1000)</th>\n",
              "      <th>Total de despesas empenhadas (R$x1000)</th>\n",
              "      <th>IDHm</th>\n",
              "      <th>PIB per capita</th>\n",
              "      <th>Percentual das receitas oriundas de fontes externas (%)</th>\n",
              "      <th>Área territorial</th>\n",
              "      <th>População</th>\n",
              "      <th>Pessoal ocupado</th>\n",
              "      <th>Percentual população ocupada</th>\n",
              "      <th>Área Urbanizada</th>\n",
              "      <th>Salário Médio dos trabalhadores (xSalário mínimo)</th>\n",
              "      <th>Matrículas no ensino fundamental</th>\n",
              "      <th>Matrículas no ensino médio</th>\n",
              "      <th>Docentes no ensino fundamental</th>\n",
              "      <th>Docentes no ensino médio</th>\n",
              "      <th>Mortalidade Infantil</th>\n",
              "    </tr>\n",
              "  </thead>\n",
              "  <tbody>\n",
              "    <tr>\n",
              "      <th>166</th>\n",
              "      <td>Vargem Grande</td>\n",
              "      <td>0,297</td>\n",
              "      <td>95867,34</td>\n",
              "      <td>92155,89</td>\n",
              "      <td>0,542</td>\n",
              "      <td>6630,45</td>\n",
              "      <td>NaN</td>\n",
              "      <td>1958702</td>\n",
              "      <td>57813</td>\n",
              "      <td>2575</td>\n",
              "      <td>4,5</td>\n",
              "      <td>7,96</td>\n",
              "      <td>2</td>\n",
              "      <td>8200</td>\n",
              "      <td>1740</td>\n",
              "      <td>346</td>\n",
              "      <td>136</td>\n",
              "      <td>9,78</td>\n",
              "    </tr>\n",
              "    <tr>\n",
              "      <th>167</th>\n",
              "      <td>Viana</td>\n",
              "      <td>0,3078</td>\n",
              "      <td>92120,11</td>\n",
              "      <td>89952,74</td>\n",
              "      <td>0,618</td>\n",
              "      <td>8663,99</td>\n",
              "      <td>94,8</td>\n",
              "      <td>1166745</td>\n",
              "      <td>52852</td>\n",
              "      <td>2521</td>\n",
              "      <td>4,8</td>\n",
              "      <td>8,8</td>\n",
              "      <td>1,9</td>\n",
              "      <td>8708</td>\n",
              "      <td>2298</td>\n",
              "      <td>511</td>\n",
              "      <td>94</td>\n",
              "      <td>14,07</td>\n",
              "    </tr>\n",
              "    <tr>\n",
              "      <th>168</th>\n",
              "      <td>Vitória do Mearim</td>\n",
              "      <td>0,433</td>\n",
              "      <td>92120,11</td>\n",
              "      <td>60752,47</td>\n",
              "      <td>0,596</td>\n",
              "      <td>7895,55</td>\n",
              "      <td>91,5</td>\n",
              "      <td>716719</td>\n",
              "      <td>32956</td>\n",
              "      <td>1558</td>\n",
              "      <td>4,7</td>\n",
              "      <td>6,4</td>\n",
              "      <td>1,9</td>\n",
              "      <td>5296</td>\n",
              "      <td>1685</td>\n",
              "      <td>361</td>\n",
              "      <td>72</td>\n",
              "      <td>10,89</td>\n",
              "    </tr>\n",
              "    <tr>\n",
              "      <th>169</th>\n",
              "      <td>Vitorino Freire</td>\n",
              "      <td>0,3137</td>\n",
              "      <td>92120,11</td>\n",
              "      <td>62014,71</td>\n",
              "      <td>0,57</td>\n",
              "      <td>8444,18</td>\n",
              "      <td>NaN</td>\n",
              "      <td>1193385</td>\n",
              "      <td>31520</td>\n",
              "      <td>2098</td>\n",
              "      <td>6,7</td>\n",
              "      <td>6,57</td>\n",
              "      <td>2</td>\n",
              "      <td>4563</td>\n",
              "      <td>1367</td>\n",
              "      <td>375</td>\n",
              "      <td>67</td>\n",
              "      <td>16,24</td>\n",
              "    </tr>\n",
              "    <tr>\n",
              "      <th>170</th>\n",
              "      <td>Zé Doca</td>\n",
              "      <td>0,5691</td>\n",
              "      <td>92120,11</td>\n",
              "      <td>84989,72</td>\n",
              "      <td>0,595</td>\n",
              "      <td>8779,78</td>\n",
              "      <td>96,2</td>\n",
              "      <td>2140109</td>\n",
              "      <td>52190</td>\n",
              "      <td>3225</td>\n",
              "      <td>6,2</td>\n",
              "      <td>11,31</td>\n",
              "      <td>1,7</td>\n",
              "      <td>7021</td>\n",
              "      <td>1852</td>\n",
              "      <td>483</td>\n",
              "      <td>154</td>\n",
              "      <td>19,89</td>\n",
              "    </tr>\n",
              "  </tbody>\n",
              "</table>\n",
              "</div>\n",
              "      <button class=\"colab-df-convert\" onclick=\"convertToInteractive('df-9437d099-5cb8-4052-b70b-f7ede92e74f6')\"\n",
              "              title=\"Convert this dataframe to an interactive table.\"\n",
              "              style=\"display:none;\">\n",
              "        \n",
              "  <svg xmlns=\"http://www.w3.org/2000/svg\" height=\"24px\"viewBox=\"0 0 24 24\"\n",
              "       width=\"24px\">\n",
              "    <path d=\"M0 0h24v24H0V0z\" fill=\"none\"/>\n",
              "    <path d=\"M18.56 5.44l.94 2.06.94-2.06 2.06-.94-2.06-.94-.94-2.06-.94 2.06-2.06.94zm-11 1L8.5 8.5l.94-2.06 2.06-.94-2.06-.94L8.5 2.5l-.94 2.06-2.06.94zm10 10l.94 2.06.94-2.06 2.06-.94-2.06-.94-.94-2.06-.94 2.06-2.06.94z\"/><path d=\"M17.41 7.96l-1.37-1.37c-.4-.4-.92-.59-1.43-.59-.52 0-1.04.2-1.43.59L10.3 9.45l-7.72 7.72c-.78.78-.78 2.05 0 2.83L4 21.41c.39.39.9.59 1.41.59.51 0 1.02-.2 1.41-.59l7.78-7.78 2.81-2.81c.8-.78.8-2.07 0-2.86zM5.41 20L4 18.59l7.72-7.72 1.47 1.35L5.41 20z\"/>\n",
              "  </svg>\n",
              "      </button>\n",
              "      \n",
              "  <style>\n",
              "    .colab-df-container {\n",
              "      display:flex;\n",
              "      flex-wrap:wrap;\n",
              "      gap: 12px;\n",
              "    }\n",
              "\n",
              "    .colab-df-convert {\n",
              "      background-color: #E8F0FE;\n",
              "      border: none;\n",
              "      border-radius: 50%;\n",
              "      cursor: pointer;\n",
              "      display: none;\n",
              "      fill: #1967D2;\n",
              "      height: 32px;\n",
              "      padding: 0 0 0 0;\n",
              "      width: 32px;\n",
              "    }\n",
              "\n",
              "    .colab-df-convert:hover {\n",
              "      background-color: #E2EBFA;\n",
              "      box-shadow: 0px 1px 2px rgba(60, 64, 67, 0.3), 0px 1px 3px 1px rgba(60, 64, 67, 0.15);\n",
              "      fill: #174EA6;\n",
              "    }\n",
              "\n",
              "    [theme=dark] .colab-df-convert {\n",
              "      background-color: #3B4455;\n",
              "      fill: #D2E3FC;\n",
              "    }\n",
              "\n",
              "    [theme=dark] .colab-df-convert:hover {\n",
              "      background-color: #434B5C;\n",
              "      box-shadow: 0px 1px 3px 1px rgba(0, 0, 0, 0.15);\n",
              "      filter: drop-shadow(0px 1px 2px rgba(0, 0, 0, 0.3));\n",
              "      fill: #FFFFFF;\n",
              "    }\n",
              "  </style>\n",
              "\n",
              "      <script>\n",
              "        const buttonEl =\n",
              "          document.querySelector('#df-9437d099-5cb8-4052-b70b-f7ede92e74f6 button.colab-df-convert');\n",
              "        buttonEl.style.display =\n",
              "          google.colab.kernel.accessAllowed ? 'block' : 'none';\n",
              "\n",
              "        async function convertToInteractive(key) {\n",
              "          const element = document.querySelector('#df-9437d099-5cb8-4052-b70b-f7ede92e74f6');\n",
              "          const dataTable =\n",
              "            await google.colab.kernel.invokeFunction('convertToInteractive',\n",
              "                                                     [key], {});\n",
              "          if (!dataTable) return;\n",
              "\n",
              "          const docLinkHtml = 'Like what you see? Visit the ' +\n",
              "            '<a target=\"_blank\" href=https://colab.research.google.com/notebooks/data_table.ipynb>data table notebook</a>'\n",
              "            + ' to learn more about interactive tables.';\n",
              "          element.innerHTML = '';\n",
              "          dataTable['output_type'] = 'display_data';\n",
              "          await google.colab.output.renderOutput(dataTable, element);\n",
              "          const docLink = document.createElement('div');\n",
              "          docLink.innerHTML = docLinkHtml;\n",
              "          element.appendChild(docLink);\n",
              "        }\n",
              "      </script>\n",
              "    </div>\n",
              "  </div>\n",
              "  "
            ]
          },
          "metadata": {},
          "execution_count": 4
        }
      ]
    },
    {
      "cell_type": "code",
      "source": [
        "df_treinamento_supervisionado['IFGF'].replace(',','.',regex=True)"
      ],
      "metadata": {
        "colab": {
          "base_uri": "https://localhost:8080/"
        },
        "id": "fnrRXxDDjlWf",
        "outputId": "d70c9128-da80-4748-aa12-5e901a41f9a9"
      },
      "execution_count": null,
      "outputs": [
        {
          "output_type": "execute_result",
          "data": {
            "text/plain": [
              "0      0.6772\n",
              "1      0.2418\n",
              "2       0.387\n",
              "3      0.4069\n",
              "4      0.3227\n",
              "        ...  \n",
              "166     0.297\n",
              "167    0.3078\n",
              "168     0.433\n",
              "169    0.3137\n",
              "170    0.5691\n",
              "Name: IFGF, Length: 171, dtype: object"
            ]
          },
          "metadata": {},
          "execution_count": 5
        }
      ]
    },
    {
      "cell_type": "code",
      "source": [
        "from google.colab import drive\n",
        "drive.mount('/content/drive')"
      ],
      "metadata": {
        "id": "SnjOpCRawzI_",
        "colab": {
          "base_uri": "https://localhost:8080/"
        },
        "outputId": "126df9c6-d42c-4b53-e140-8b9d455d4741"
      },
      "execution_count": null,
      "outputs": [
        {
          "output_type": "stream",
          "name": "stdout",
          "text": [
            "Drive already mounted at /content/drive; to attempt to forcibly remount, call drive.mount(\"/content/drive\", force_remount=True).\n"
          ]
        }
      ]
    },
    {
      "cell_type": "code",
      "source": [
        "df_base_de_dados = pd.read_csv('/content/drive/MyDrive/IA/TRABALHO/base_de_avaliacao.csv',sep=\";\")\n",
        "df_base_de_dados.head()"
      ],
      "metadata": {
        "colab": {
          "base_uri": "https://localhost:8080/",
          "height": 461
        },
        "id": "vRxNyIRlAFip",
        "outputId": "480732ff-79e9-4893-aeb0-e285a733da7d"
      },
      "execution_count": null,
      "outputs": [
        {
          "output_type": "execute_result",
          "data": {
            "text/plain": [
              "                 Município IFGF Total de receitas realizadas (R$x1000)  \\\n",
              "0  Alto Alegre do Maranhão    ?                               48180,12   \n",
              "1                    Arame    ?                               69273,85   \n",
              "2          Barão de Grajaú    ?                               39740,96   \n",
              "3                   Cajari    ?                               41227,11   \n",
              "4    Conceição do Lago-Açu    ?                               35309,92   \n",
              "\n",
              "  Total de despesas empenhadas (R$x1000)   IDHm PIB per capita  \\\n",
              "0                               47273,24  0,554        8770,52   \n",
              "1                               71709,47  0,521        5902,11   \n",
              "2                                40114,7  0,592       11816,72   \n",
              "3                               34447,37  0,523        5748,61   \n",
              "4                               33722,37  0,512        8146,21   \n",
              "\n",
              "  Percentual das receitas oriundas de fontes externas (%)  Área territorial  \\\n",
              "0                                               95,4                 392750   \n",
              "1                                                NaN                1789730   \n",
              "2                                               97,5                2209414   \n",
              "3                                               98,5                 662066   \n",
              "4                                               99,1                 725664   \n",
              "\n",
              "   População  Pessoal ocupado Percentual população ocupada Área Urbanizada  \\\n",
              "0      28066              978                          3,5            6,56   \n",
              "1      47095             2146                          4,6            9,38   \n",
              "2      19026             1581                          8,4            5,19   \n",
              "3      19521              642                          3,3            2,04   \n",
              "4      16559              787                          4,8            2,28   \n",
              "\n",
              "  Salário Médio dos trabalhadores (xSalário mínimo)  \\\n",
              "0                                               1,5   \n",
              "1                                               2,1   \n",
              "2                                               1,6   \n",
              "3                                               1,7   \n",
              "4                                               2,4   \n",
              "\n",
              "   Matrículas no ensino fundamental  Matrículas no ensino médio  \\\n",
              "0                              4260                        1166   \n",
              "1                              6620                        1450   \n",
              "2                              2571                         735   \n",
              "3                              3413                         673   \n",
              "4                              3428                         423   \n",
              "\n",
              "   Docentes no ensino fundamental  Docentes no ensino médio  \\\n",
              "0                             276                        46   \n",
              "1                             446                        78   \n",
              "2                             190                        52   \n",
              "3                             311                        26   \n",
              "4                             260                        17   \n",
              "\n",
              "  Mortalidade Infantil  \n",
              "0                15,11  \n",
              "1                12,68  \n",
              "2                14,98  \n",
              "3                19,61  \n",
              "4                20,75  "
            ],
            "text/html": [
              "\n",
              "  <div id=\"df-bf5ca8d7-ccc3-4de4-8eea-7624353a2c72\">\n",
              "    <div class=\"colab-df-container\">\n",
              "      <div>\n",
              "<style scoped>\n",
              "    .dataframe tbody tr th:only-of-type {\n",
              "        vertical-align: middle;\n",
              "    }\n",
              "\n",
              "    .dataframe tbody tr th {\n",
              "        vertical-align: top;\n",
              "    }\n",
              "\n",
              "    .dataframe thead th {\n",
              "        text-align: right;\n",
              "    }\n",
              "</style>\n",
              "<table border=\"1\" class=\"dataframe\">\n",
              "  <thead>\n",
              "    <tr style=\"text-align: right;\">\n",
              "      <th></th>\n",
              "      <th>Município</th>\n",
              "      <th>IFGF</th>\n",
              "      <th>Total de receitas realizadas (R$x1000)</th>\n",
              "      <th>Total de despesas empenhadas (R$x1000)</th>\n",
              "      <th>IDHm</th>\n",
              "      <th>PIB per capita</th>\n",
              "      <th>Percentual das receitas oriundas de fontes externas (%)</th>\n",
              "      <th>Área territorial</th>\n",
              "      <th>População</th>\n",
              "      <th>Pessoal ocupado</th>\n",
              "      <th>Percentual população ocupada</th>\n",
              "      <th>Área Urbanizada</th>\n",
              "      <th>Salário Médio dos trabalhadores (xSalário mínimo)</th>\n",
              "      <th>Matrículas no ensino fundamental</th>\n",
              "      <th>Matrículas no ensino médio</th>\n",
              "      <th>Docentes no ensino fundamental</th>\n",
              "      <th>Docentes no ensino médio</th>\n",
              "      <th>Mortalidade Infantil</th>\n",
              "    </tr>\n",
              "  </thead>\n",
              "  <tbody>\n",
              "    <tr>\n",
              "      <th>0</th>\n",
              "      <td>Alto Alegre do Maranhão</td>\n",
              "      <td>?</td>\n",
              "      <td>48180,12</td>\n",
              "      <td>47273,24</td>\n",
              "      <td>0,554</td>\n",
              "      <td>8770,52</td>\n",
              "      <td>95,4</td>\n",
              "      <td>392750</td>\n",
              "      <td>28066</td>\n",
              "      <td>978</td>\n",
              "      <td>3,5</td>\n",
              "      <td>6,56</td>\n",
              "      <td>1,5</td>\n",
              "      <td>4260</td>\n",
              "      <td>1166</td>\n",
              "      <td>276</td>\n",
              "      <td>46</td>\n",
              "      <td>15,11</td>\n",
              "    </tr>\n",
              "    <tr>\n",
              "      <th>1</th>\n",
              "      <td>Arame</td>\n",
              "      <td>?</td>\n",
              "      <td>69273,85</td>\n",
              "      <td>71709,47</td>\n",
              "      <td>0,521</td>\n",
              "      <td>5902,11</td>\n",
              "      <td>NaN</td>\n",
              "      <td>1789730</td>\n",
              "      <td>47095</td>\n",
              "      <td>2146</td>\n",
              "      <td>4,6</td>\n",
              "      <td>9,38</td>\n",
              "      <td>2,1</td>\n",
              "      <td>6620</td>\n",
              "      <td>1450</td>\n",
              "      <td>446</td>\n",
              "      <td>78</td>\n",
              "      <td>12,68</td>\n",
              "    </tr>\n",
              "    <tr>\n",
              "      <th>2</th>\n",
              "      <td>Barão de Grajaú</td>\n",
              "      <td>?</td>\n",
              "      <td>39740,96</td>\n",
              "      <td>40114,7</td>\n",
              "      <td>0,592</td>\n",
              "      <td>11816,72</td>\n",
              "      <td>97,5</td>\n",
              "      <td>2209414</td>\n",
              "      <td>19026</td>\n",
              "      <td>1581</td>\n",
              "      <td>8,4</td>\n",
              "      <td>5,19</td>\n",
              "      <td>1,6</td>\n",
              "      <td>2571</td>\n",
              "      <td>735</td>\n",
              "      <td>190</td>\n",
              "      <td>52</td>\n",
              "      <td>14,98</td>\n",
              "    </tr>\n",
              "    <tr>\n",
              "      <th>3</th>\n",
              "      <td>Cajari</td>\n",
              "      <td>?</td>\n",
              "      <td>41227,11</td>\n",
              "      <td>34447,37</td>\n",
              "      <td>0,523</td>\n",
              "      <td>5748,61</td>\n",
              "      <td>98,5</td>\n",
              "      <td>662066</td>\n",
              "      <td>19521</td>\n",
              "      <td>642</td>\n",
              "      <td>3,3</td>\n",
              "      <td>2,04</td>\n",
              "      <td>1,7</td>\n",
              "      <td>3413</td>\n",
              "      <td>673</td>\n",
              "      <td>311</td>\n",
              "      <td>26</td>\n",
              "      <td>19,61</td>\n",
              "    </tr>\n",
              "    <tr>\n",
              "      <th>4</th>\n",
              "      <td>Conceição do Lago-Açu</td>\n",
              "      <td>?</td>\n",
              "      <td>35309,92</td>\n",
              "      <td>33722,37</td>\n",
              "      <td>0,512</td>\n",
              "      <td>8146,21</td>\n",
              "      <td>99,1</td>\n",
              "      <td>725664</td>\n",
              "      <td>16559</td>\n",
              "      <td>787</td>\n",
              "      <td>4,8</td>\n",
              "      <td>2,28</td>\n",
              "      <td>2,4</td>\n",
              "      <td>3428</td>\n",
              "      <td>423</td>\n",
              "      <td>260</td>\n",
              "      <td>17</td>\n",
              "      <td>20,75</td>\n",
              "    </tr>\n",
              "  </tbody>\n",
              "</table>\n",
              "</div>\n",
              "      <button class=\"colab-df-convert\" onclick=\"convertToInteractive('df-bf5ca8d7-ccc3-4de4-8eea-7624353a2c72')\"\n",
              "              title=\"Convert this dataframe to an interactive table.\"\n",
              "              style=\"display:none;\">\n",
              "        \n",
              "  <svg xmlns=\"http://www.w3.org/2000/svg\" height=\"24px\"viewBox=\"0 0 24 24\"\n",
              "       width=\"24px\">\n",
              "    <path d=\"M0 0h24v24H0V0z\" fill=\"none\"/>\n",
              "    <path d=\"M18.56 5.44l.94 2.06.94-2.06 2.06-.94-2.06-.94-.94-2.06-.94 2.06-2.06.94zm-11 1L8.5 8.5l.94-2.06 2.06-.94-2.06-.94L8.5 2.5l-.94 2.06-2.06.94zm10 10l.94 2.06.94-2.06 2.06-.94-2.06-.94-.94-2.06-.94 2.06-2.06.94z\"/><path d=\"M17.41 7.96l-1.37-1.37c-.4-.4-.92-.59-1.43-.59-.52 0-1.04.2-1.43.59L10.3 9.45l-7.72 7.72c-.78.78-.78 2.05 0 2.83L4 21.41c.39.39.9.59 1.41.59.51 0 1.02-.2 1.41-.59l7.78-7.78 2.81-2.81c.8-.78.8-2.07 0-2.86zM5.41 20L4 18.59l7.72-7.72 1.47 1.35L5.41 20z\"/>\n",
              "  </svg>\n",
              "      </button>\n",
              "      \n",
              "  <style>\n",
              "    .colab-df-container {\n",
              "      display:flex;\n",
              "      flex-wrap:wrap;\n",
              "      gap: 12px;\n",
              "    }\n",
              "\n",
              "    .colab-df-convert {\n",
              "      background-color: #E8F0FE;\n",
              "      border: none;\n",
              "      border-radius: 50%;\n",
              "      cursor: pointer;\n",
              "      display: none;\n",
              "      fill: #1967D2;\n",
              "      height: 32px;\n",
              "      padding: 0 0 0 0;\n",
              "      width: 32px;\n",
              "    }\n",
              "\n",
              "    .colab-df-convert:hover {\n",
              "      background-color: #E2EBFA;\n",
              "      box-shadow: 0px 1px 2px rgba(60, 64, 67, 0.3), 0px 1px 3px 1px rgba(60, 64, 67, 0.15);\n",
              "      fill: #174EA6;\n",
              "    }\n",
              "\n",
              "    [theme=dark] .colab-df-convert {\n",
              "      background-color: #3B4455;\n",
              "      fill: #D2E3FC;\n",
              "    }\n",
              "\n",
              "    [theme=dark] .colab-df-convert:hover {\n",
              "      background-color: #434B5C;\n",
              "      box-shadow: 0px 1px 3px 1px rgba(0, 0, 0, 0.15);\n",
              "      filter: drop-shadow(0px 1px 2px rgba(0, 0, 0, 0.3));\n",
              "      fill: #FFFFFF;\n",
              "    }\n",
              "  </style>\n",
              "\n",
              "      <script>\n",
              "        const buttonEl =\n",
              "          document.querySelector('#df-bf5ca8d7-ccc3-4de4-8eea-7624353a2c72 button.colab-df-convert');\n",
              "        buttonEl.style.display =\n",
              "          google.colab.kernel.accessAllowed ? 'block' : 'none';\n",
              "\n",
              "        async function convertToInteractive(key) {\n",
              "          const element = document.querySelector('#df-bf5ca8d7-ccc3-4de4-8eea-7624353a2c72');\n",
              "          const dataTable =\n",
              "            await google.colab.kernel.invokeFunction('convertToInteractive',\n",
              "                                                     [key], {});\n",
              "          if (!dataTable) return;\n",
              "\n",
              "          const docLinkHtml = 'Like what you see? Visit the ' +\n",
              "            '<a target=\"_blank\" href=https://colab.research.google.com/notebooks/data_table.ipynb>data table notebook</a>'\n",
              "            + ' to learn more about interactive tables.';\n",
              "          element.innerHTML = '';\n",
              "          dataTable['output_type'] = 'display_data';\n",
              "          await google.colab.output.renderOutput(dataTable, element);\n",
              "          const docLink = document.createElement('div');\n",
              "          docLink.innerHTML = docLinkHtml;\n",
              "          element.appendChild(docLink);\n",
              "        }\n",
              "      </script>\n",
              "    </div>\n",
              "  </div>\n",
              "  "
            ]
          },
          "metadata": {},
          "execution_count": 7
        }
      ]
    },
    {
      "cell_type": "code",
      "source": [
        "import tensorflow as tf"
      ],
      "metadata": {
        "id": "xMSMHJxTHMf9"
      },
      "execution_count": null,
      "outputs": []
    },
    {
      "cell_type": "markdown",
      "source": [
        "# Inteligência Artificial\n",
        "## Trabalho Final 2023.1\n"
      ],
      "metadata": {
        "id": "qeG4WkBHLGle"
      }
    },
    {
      "cell_type": "markdown",
      "source": [
        "### Nesse trabalho iremos desenvolver uma rede neural para solucionar o problema da cadeira de inteligencia Artificial\n"
      ],
      "metadata": {
        "id": "Ou61p8GXHcLB"
      }
    },
    {
      "cell_type": "markdown",
      "source": [
        "➢ A base de dados é do Índice Firjan, que é composto por quatro indicadores que\n",
        "representam o quanto um município está sendo bem administrado:\n",
        "\n",
        "➢ Autonomia, que é a capacidade de financiar a estrutura administrativa;\n",
        "\n",
        "➢ Gastos com Pessoal, que significa o grau de rigidez do orçamento;\n",
        "\n",
        "➢ Liquidez, que trata do cumprimento das obrigações financeiras das prefeituras;\n",
        "\n",
        "➢ Investimentos, que é a capacidade de gerar bem-estar e competitividade.\n",
        "\n",
        "➢ Acompanham os dados do Índice Firjan informações geopolíticas e econômicas de\n",
        "cada município."
      ],
      "metadata": {
        "id": "cQTEjPKgLcZm"
      }
    },
    {
      "cell_type": "code",
      "source": [
        "df_treinamento_supervisionado.head()"
      ],
      "metadata": {
        "id": "evfuycqILgqc",
        "colab": {
          "base_uri": "https://localhost:8080/",
          "height": 479
        },
        "outputId": "2690bdcc-172f-47a2-c465-e07dfe96991c"
      },
      "execution_count": null,
      "outputs": [
        {
          "output_type": "execute_result",
          "data": {
            "text/plain": [
              "                Município    IFGF Total de receitas realizadas (R$x1000)  \\\n",
              "0              Açailândia  0,6772                              276417,09   \n",
              "1    Altamira do Maranhão  0,2418                               28548,43   \n",
              "2  Alto Alegre do Pindaré   0,387                               70794,78   \n",
              "3           Alto Parnaíba  0,4069                               34241,63   \n",
              "4    Amarante do Maranhão  0,3227                               74474,98   \n",
              "\n",
              "  Total de despesas empenhadas (R$x1000)   IDHm PIB per capita  \\\n",
              "0                              247664,14  0,672       23683,22   \n",
              "1                               24977,85  0,549        7512,63   \n",
              "2                                68523,7  0,558        7221,77   \n",
              "3                               32154,06  0,633       43877,65   \n",
              "4                               67136,51  0,555         8010,3   \n",
              "\n",
              "  Percentual das receitas oriundas de fontes externas (%)  Área territorial  \\\n",
              "0                                               74,8                5805159   \n",
              "1                                               97,6                 524374   \n",
              "2                                               90,2                1875901   \n",
              "3                                               94,8               11127384   \n",
              "4                                               95,9                7439615   \n",
              "\n",
              "   População  Pessoal ocupado Percentual população ocupada Área Urbanizada  \\\n",
              "0     113783            16354                         14,5           28,63   \n",
              "1       8250              326                            4            1,45   \n",
              "2      31967             1260                          3,9            5,52   \n",
              "3      11233             1165                         10,4            3,07   \n",
              "4      42017             1592                          3,8            9,44   \n",
              "\n",
              "  Salário Médio dos trabalhadores (xSalário mínimo)  \\\n",
              "0                                               2,2   \n",
              "1                                               1,9   \n",
              "2                                               1,9   \n",
              "3                                               1,8   \n",
              "4                                               1,7   \n",
              "\n",
              "   Matrículas no ensino fundamental  Matrículas no ensino médio  \\\n",
              "0                             16830                        4379   \n",
              "1                              1140                         234   \n",
              "2                              5014                        1592   \n",
              "3                              1861                         333   \n",
              "4                              7290                        1370   \n",
              "\n",
              "   Docentes no ensino fundamental  Docentes no ensino médio  \\\n",
              "0                             771                       274   \n",
              "1                             111                         8   \n",
              "2                             325                       107   \n",
              "3                             130                        14   \n",
              "4                             556                       116   \n",
              "\n",
              "  Mortalidade Infantil  \n",
              "0                13,04  \n",
              "1                  NaN  \n",
              "2                20,45  \n",
              "3                20,94  \n",
              "4                17,83  "
            ],
            "text/html": [
              "\n",
              "  <div id=\"df-f6f01bf6-8510-42ea-a501-369ba75f45a8\">\n",
              "    <div class=\"colab-df-container\">\n",
              "      <div>\n",
              "<style scoped>\n",
              "    .dataframe tbody tr th:only-of-type {\n",
              "        vertical-align: middle;\n",
              "    }\n",
              "\n",
              "    .dataframe tbody tr th {\n",
              "        vertical-align: top;\n",
              "    }\n",
              "\n",
              "    .dataframe thead th {\n",
              "        text-align: right;\n",
              "    }\n",
              "</style>\n",
              "<table border=\"1\" class=\"dataframe\">\n",
              "  <thead>\n",
              "    <tr style=\"text-align: right;\">\n",
              "      <th></th>\n",
              "      <th>Município</th>\n",
              "      <th>IFGF</th>\n",
              "      <th>Total de receitas realizadas (R$x1000)</th>\n",
              "      <th>Total de despesas empenhadas (R$x1000)</th>\n",
              "      <th>IDHm</th>\n",
              "      <th>PIB per capita</th>\n",
              "      <th>Percentual das receitas oriundas de fontes externas (%)</th>\n",
              "      <th>Área territorial</th>\n",
              "      <th>População</th>\n",
              "      <th>Pessoal ocupado</th>\n",
              "      <th>Percentual população ocupada</th>\n",
              "      <th>Área Urbanizada</th>\n",
              "      <th>Salário Médio dos trabalhadores (xSalário mínimo)</th>\n",
              "      <th>Matrículas no ensino fundamental</th>\n",
              "      <th>Matrículas no ensino médio</th>\n",
              "      <th>Docentes no ensino fundamental</th>\n",
              "      <th>Docentes no ensino médio</th>\n",
              "      <th>Mortalidade Infantil</th>\n",
              "    </tr>\n",
              "  </thead>\n",
              "  <tbody>\n",
              "    <tr>\n",
              "      <th>0</th>\n",
              "      <td>Açailândia</td>\n",
              "      <td>0,6772</td>\n",
              "      <td>276417,09</td>\n",
              "      <td>247664,14</td>\n",
              "      <td>0,672</td>\n",
              "      <td>23683,22</td>\n",
              "      <td>74,8</td>\n",
              "      <td>5805159</td>\n",
              "      <td>113783</td>\n",
              "      <td>16354</td>\n",
              "      <td>14,5</td>\n",
              "      <td>28,63</td>\n",
              "      <td>2,2</td>\n",
              "      <td>16830</td>\n",
              "      <td>4379</td>\n",
              "      <td>771</td>\n",
              "      <td>274</td>\n",
              "      <td>13,04</td>\n",
              "    </tr>\n",
              "    <tr>\n",
              "      <th>1</th>\n",
              "      <td>Altamira do Maranhão</td>\n",
              "      <td>0,2418</td>\n",
              "      <td>28548,43</td>\n",
              "      <td>24977,85</td>\n",
              "      <td>0,549</td>\n",
              "      <td>7512,63</td>\n",
              "      <td>97,6</td>\n",
              "      <td>524374</td>\n",
              "      <td>8250</td>\n",
              "      <td>326</td>\n",
              "      <td>4</td>\n",
              "      <td>1,45</td>\n",
              "      <td>1,9</td>\n",
              "      <td>1140</td>\n",
              "      <td>234</td>\n",
              "      <td>111</td>\n",
              "      <td>8</td>\n",
              "      <td>NaN</td>\n",
              "    </tr>\n",
              "    <tr>\n",
              "      <th>2</th>\n",
              "      <td>Alto Alegre do Pindaré</td>\n",
              "      <td>0,387</td>\n",
              "      <td>70794,78</td>\n",
              "      <td>68523,7</td>\n",
              "      <td>0,558</td>\n",
              "      <td>7221,77</td>\n",
              "      <td>90,2</td>\n",
              "      <td>1875901</td>\n",
              "      <td>31967</td>\n",
              "      <td>1260</td>\n",
              "      <td>3,9</td>\n",
              "      <td>5,52</td>\n",
              "      <td>1,9</td>\n",
              "      <td>5014</td>\n",
              "      <td>1592</td>\n",
              "      <td>325</td>\n",
              "      <td>107</td>\n",
              "      <td>20,45</td>\n",
              "    </tr>\n",
              "    <tr>\n",
              "      <th>3</th>\n",
              "      <td>Alto Parnaíba</td>\n",
              "      <td>0,4069</td>\n",
              "      <td>34241,63</td>\n",
              "      <td>32154,06</td>\n",
              "      <td>0,633</td>\n",
              "      <td>43877,65</td>\n",
              "      <td>94,8</td>\n",
              "      <td>11127384</td>\n",
              "      <td>11233</td>\n",
              "      <td>1165</td>\n",
              "      <td>10,4</td>\n",
              "      <td>3,07</td>\n",
              "      <td>1,8</td>\n",
              "      <td>1861</td>\n",
              "      <td>333</td>\n",
              "      <td>130</td>\n",
              "      <td>14</td>\n",
              "      <td>20,94</td>\n",
              "    </tr>\n",
              "    <tr>\n",
              "      <th>4</th>\n",
              "      <td>Amarante do Maranhão</td>\n",
              "      <td>0,3227</td>\n",
              "      <td>74474,98</td>\n",
              "      <td>67136,51</td>\n",
              "      <td>0,555</td>\n",
              "      <td>8010,3</td>\n",
              "      <td>95,9</td>\n",
              "      <td>7439615</td>\n",
              "      <td>42017</td>\n",
              "      <td>1592</td>\n",
              "      <td>3,8</td>\n",
              "      <td>9,44</td>\n",
              "      <td>1,7</td>\n",
              "      <td>7290</td>\n",
              "      <td>1370</td>\n",
              "      <td>556</td>\n",
              "      <td>116</td>\n",
              "      <td>17,83</td>\n",
              "    </tr>\n",
              "  </tbody>\n",
              "</table>\n",
              "</div>\n",
              "      <button class=\"colab-df-convert\" onclick=\"convertToInteractive('df-f6f01bf6-8510-42ea-a501-369ba75f45a8')\"\n",
              "              title=\"Convert this dataframe to an interactive table.\"\n",
              "              style=\"display:none;\">\n",
              "        \n",
              "  <svg xmlns=\"http://www.w3.org/2000/svg\" height=\"24px\"viewBox=\"0 0 24 24\"\n",
              "       width=\"24px\">\n",
              "    <path d=\"M0 0h24v24H0V0z\" fill=\"none\"/>\n",
              "    <path d=\"M18.56 5.44l.94 2.06.94-2.06 2.06-.94-2.06-.94-.94-2.06-.94 2.06-2.06.94zm-11 1L8.5 8.5l.94-2.06 2.06-.94-2.06-.94L8.5 2.5l-.94 2.06-2.06.94zm10 10l.94 2.06.94-2.06 2.06-.94-2.06-.94-.94-2.06-.94 2.06-2.06.94z\"/><path d=\"M17.41 7.96l-1.37-1.37c-.4-.4-.92-.59-1.43-.59-.52 0-1.04.2-1.43.59L10.3 9.45l-7.72 7.72c-.78.78-.78 2.05 0 2.83L4 21.41c.39.39.9.59 1.41.59.51 0 1.02-.2 1.41-.59l7.78-7.78 2.81-2.81c.8-.78.8-2.07 0-2.86zM5.41 20L4 18.59l7.72-7.72 1.47 1.35L5.41 20z\"/>\n",
              "  </svg>\n",
              "      </button>\n",
              "      \n",
              "  <style>\n",
              "    .colab-df-container {\n",
              "      display:flex;\n",
              "      flex-wrap:wrap;\n",
              "      gap: 12px;\n",
              "    }\n",
              "\n",
              "    .colab-df-convert {\n",
              "      background-color: #E8F0FE;\n",
              "      border: none;\n",
              "      border-radius: 50%;\n",
              "      cursor: pointer;\n",
              "      display: none;\n",
              "      fill: #1967D2;\n",
              "      height: 32px;\n",
              "      padding: 0 0 0 0;\n",
              "      width: 32px;\n",
              "    }\n",
              "\n",
              "    .colab-df-convert:hover {\n",
              "      background-color: #E2EBFA;\n",
              "      box-shadow: 0px 1px 2px rgba(60, 64, 67, 0.3), 0px 1px 3px 1px rgba(60, 64, 67, 0.15);\n",
              "      fill: #174EA6;\n",
              "    }\n",
              "\n",
              "    [theme=dark] .colab-df-convert {\n",
              "      background-color: #3B4455;\n",
              "      fill: #D2E3FC;\n",
              "    }\n",
              "\n",
              "    [theme=dark] .colab-df-convert:hover {\n",
              "      background-color: #434B5C;\n",
              "      box-shadow: 0px 1px 3px 1px rgba(0, 0, 0, 0.15);\n",
              "      filter: drop-shadow(0px 1px 2px rgba(0, 0, 0, 0.3));\n",
              "      fill: #FFFFFF;\n",
              "    }\n",
              "  </style>\n",
              "\n",
              "      <script>\n",
              "        const buttonEl =\n",
              "          document.querySelector('#df-f6f01bf6-8510-42ea-a501-369ba75f45a8 button.colab-df-convert');\n",
              "        buttonEl.style.display =\n",
              "          google.colab.kernel.accessAllowed ? 'block' : 'none';\n",
              "\n",
              "        async function convertToInteractive(key) {\n",
              "          const element = document.querySelector('#df-f6f01bf6-8510-42ea-a501-369ba75f45a8');\n",
              "          const dataTable =\n",
              "            await google.colab.kernel.invokeFunction('convertToInteractive',\n",
              "                                                     [key], {});\n",
              "          if (!dataTable) return;\n",
              "\n",
              "          const docLinkHtml = 'Like what you see? Visit the ' +\n",
              "            '<a target=\"_blank\" href=https://colab.research.google.com/notebooks/data_table.ipynb>data table notebook</a>'\n",
              "            + ' to learn more about interactive tables.';\n",
              "          element.innerHTML = '';\n",
              "          dataTable['output_type'] = 'display_data';\n",
              "          await google.colab.output.renderOutput(dataTable, element);\n",
              "          const docLink = document.createElement('div');\n",
              "          docLink.innerHTML = docLinkHtml;\n",
              "          element.appendChild(docLink);\n",
              "        }\n",
              "      </script>\n",
              "    </div>\n",
              "  </div>\n",
              "  "
            ]
          },
          "metadata": {},
          "execution_count": 23
        }
      ]
    },
    {
      "cell_type": "markdown",
      "source": [
        "O índice varia entre 0 e 1 e quanto maior, melhor é a gestão fiscal do\n",
        "município.\n",
        "\n",
        "➢ Cada cidade é classificada com conceitos:\n",
        "\n",
        "➢ A (Gestão de Excelência, acima de 0,8001 pontos),\n",
        "\n",
        "➢ B (Boa Gestão, entre 0,6001 e 0,8),\n",
        "\n",
        "➢ C (Gestão em Dificuldade, entre 0,4001 e 0,6) ou\n",
        "\n",
        "➢ D (Gestão Crítica, inferiores a 0,4 pontos)"
      ],
      "metadata": {
        "id": "me4_M9UDLsQ0"
      }
    },
    {
      "cell_type": "code",
      "source": [
        "df_treinamento_supervisionado.info()"
      ],
      "metadata": {
        "id": "bJRp9hj-LvVC",
        "colab": {
          "base_uri": "https://localhost:8080/"
        },
        "outputId": "d2a6d8ac-0a4d-4839-cf2e-526eacd8cfe0"
      },
      "execution_count": null,
      "outputs": [
        {
          "output_type": "stream",
          "name": "stdout",
          "text": [
            "<class 'pandas.core.frame.DataFrame'>\n",
            "RangeIndex: 171 entries, 0 to 170\n",
            "Data columns (total 18 columns):\n",
            " #   Column                                                   Non-Null Count  Dtype \n",
            "---  ------                                                   --------------  ----- \n",
            " 0   Município                                                171 non-null    object\n",
            " 1   IFGF                                                     171 non-null    object\n",
            " 2   Total de receitas realizadas (R$x1000)                   171 non-null    object\n",
            " 3   Total de despesas empenhadas (R$x1000)                   171 non-null    object\n",
            " 4   IDHm                                                     171 non-null    object\n",
            " 5   PIB per capita                                           171 non-null    object\n",
            " 6   Percentual das receitas oriundas de fontes externas (%)  126 non-null    object\n",
            " 7   Área territorial                                         171 non-null    int64 \n",
            " 8   População                                                171 non-null    int64 \n",
            " 9   Pessoal ocupado                                          171 non-null    int64 \n",
            " 10  Percentual população ocupada                             171 non-null    object\n",
            " 11  Área Urbanizada                                          171 non-null    object\n",
            " 12  Salário Médio dos trabalhadores (xSalário mínimo)        171 non-null    object\n",
            " 13  Matrículas no ensino fundamental                         171 non-null    int64 \n",
            " 14  Matrículas no ensino médio                               171 non-null    int64 \n",
            " 15  Docentes no ensino fundamental                           171 non-null    int64 \n",
            " 16  Docentes no ensino médio                                 171 non-null    int64 \n",
            " 17  Mortalidade Infantil                                     153 non-null    object\n",
            "dtypes: int64(7), object(11)\n",
            "memory usage: 24.2+ KB\n"
          ]
        }
      ]
    },
    {
      "cell_type": "markdown",
      "source": [
        "# Objetivo\n",
        "* Seu objetivo é, a partir da “base de treino supervisionado”, criar um modelo de\n",
        "classificação para identificar municípios que estão em nível de Gestão Crítica (D).\n",
        "\n",
        "* Após a criação do modelo, aplique-o sobre a “base de avaliação” e defina quais\n",
        "municípios estão em situação de gestão crítica"
      ],
      "metadata": {
        "id": "-MgJsFhuL9Yp"
      }
    },
    {
      "cell_type": "code",
      "source": [
        "plt.hist(df_treinamento_supervisionado['IFGF'])"
      ],
      "metadata": {
        "id": "eZv3Tl0EME9c",
        "colab": {
          "base_uri": "https://localhost:8080/",
          "height": 499
        },
        "outputId": "851e57ad-665e-4131-9aa9-1e876ba3f695"
      },
      "execution_count": null,
      "outputs": [
        {
          "output_type": "execute_result",
          "data": {
            "text/plain": [
              "(array([19., 16., 17., 18., 18., 17., 16., 17., 16., 17.]),\n",
              " array([  0. ,  16.4,  32.8,  49.2,  65.6,  82. ,  98.4, 114.8, 131.2,\n",
              "        147.6, 164. ]),\n",
              " <BarContainer object of 10 artists>)"
            ]
          },
          "metadata": {},
          "execution_count": 25
        },
        {
          "output_type": "display_data",
          "data": {
            "text/plain": [
              "<Figure size 640x480 with 1 Axes>"
            ],
            "image/png": "[encoded data removed]"
          },
          "metadata": {}
        }
      ]
    },
    {
      "cell_type": "markdown",
      "source": [
        "# Classificadores\n",
        "### Cada grupo deverá escolher um dos seguintes algoritmos de aprendizagem para utilizar no trabalho:\n",
        "\n",
        "* K-Means\n",
        "* K-Nearest Neighbor (KNN)\n",
        "* Regressão Linear\n",
        "* Regressão Logística\n",
        "* Árvore de Decisão\n",
        "* Naïve Bayes\n",
        "* Suport Vector Machine (SVM)\n",
        "* Redes Neurais\n"
      ],
      "metadata": {
        "id": "EuotY5edMMBq"
      }
    },
    {
      "cell_type": "code",
      "source": [],
      "metadata": {
        "id": "05k6DMFeMXn6"
      },
      "execution_count": null,
      "outputs": []
    },
    {
      "cell_type": "markdown",
      "source": [
        "# Seminário e Relatório\n",
        "### Montem um seminário sobre o classificador escolhido, explicando seu funcionamento e os principais parâmetros que devem ser configurados. O seminário deve ter no máximo 15 minutos de duração.\n",
        "### Por fim, apresente o resultado da classificação das instâncias desconhecidas, criando um relatório de como foram realizadas as etapas de criação de modelo de classificação, treino, teste, parametrização, e o que mais for importante para o entendimento"
      ],
      "metadata": {
        "id": "nPYBvDsvMp_G"
      }
    },
    {
      "cell_type": "markdown",
      "source": [
        "# Ferramentas\n",
        "### Utilize uma das ferramentas para realizar os experimentos:\n",
        "- Laws Miner: https://alexandreronald.shinyapps.io/LawsMiner/\n",
        "- WEKA: https://www.cs.waikato.ac.nz/ml/weka/\n",
        "- R: https://www.r-project.org/\n",
        "- Orange: https://orangedatamining.com/\n",
        "- SciKit Learn: https://scikit-learn.org/stable/\n",
        "- Ou faça sua própria implementação.\n"
      ],
      "metadata": {
        "id": "q4VqDGuAM8v6"
      }
    },
    {
      "cell_type": "code",
      "source": [],
      "metadata": {
        "id": "1LT5vsgoNBeF"
      },
      "execution_count": null,
      "outputs": []
    },
    {
      "cell_type": "markdown",
      "source": [
        "# Código louco\n"
      ],
      "metadata": {
        "id": "-if_KF-XS3V6"
      }
    },
    {
      "cell_type": "code",
      "source": [
        "import tensorflow as tf\n",
        "import pandas as pd\n",
        "import numpy as np\n",
        "import seaborn as sns\n",
        "import matplotlib.pyplot as plt"
      ],
      "metadata": {
        "id": "LtwHV5J0S5y4"
      },
      "execution_count": null,
      "outputs": []
    },
    {
      "cell_type": "code",
      "source": [
        "data_full = pd.read_csv('/content/drive/MyDrive/IA/TRABALHO/Base_Treinamento_Supervisionado.csv', encoding=\"ISO-8859-1\",sep=\";\")"
      ],
      "metadata": {
        "id": "JniBX43XS4r4"
      },
      "execution_count": null,
      "outputs": []
    },
    {
      "cell_type": "code",
      "source": [
        "# numero de colunas, numero de linhas\n",
        "data_full.shape[1], data_full.shape[0]"
      ],
      "metadata": {
        "colab": {
          "base_uri": "https://localhost:8080/"
        },
        "id": "vKE3AXzNoJ4S",
        "outputId": "b48605da-ee06-442a-da4d-b2958d3540ec"
      },
      "execution_count": null,
      "outputs": [
        {
          "output_type": "execute_result",
          "data": {
            "text/plain": [
              "(18, 171)"
            ]
          },
          "metadata": {},
          "execution_count": 13
        }
      ]
    },
    {
      "cell_type": "code",
      "source": [
        "# listar colunas\n",
        "data_full.columns.tolist()"
      ],
      "metadata": {
        "colab": {
          "base_uri": "https://localhost:8080/"
        },
        "id": "yAC2kYNvbALd",
        "outputId": "1d0bdc17-ad0d-4932-8d71-7b49f5f8045d"
      },
      "execution_count": null,
      "outputs": [
        {
          "output_type": "execute_result",
          "data": {
            "text/plain": [
              "['Município',\n",
              " 'IFGF',\n",
              " 'Total de receitas realizadas (R$x1000)',\n",
              " 'Total de despesas empenhadas (R$x1000)',\n",
              " 'IDHm',\n",
              " 'PIB per capita',\n",
              " 'Percentual das receitas oriundas de fontes externas (%)',\n",
              " 'Área territorial',\n",
              " 'População',\n",
              " 'Pessoal ocupado',\n",
              " 'Percentual população ocupada',\n",
              " 'Área Urbanizada',\n",
              " 'Salário Médio dos trabalhadores (xSalário mínimo)',\n",
              " 'Matrículas no ensino fundamental',\n",
              " 'Matrículas no ensino médio',\n",
              " 'Docentes no ensino fundamental',\n",
              " 'Docentes no ensino médio',\n",
              " 'Mortalidade Infantil']"
            ]
          },
          "metadata": {},
          "execution_count": 14
        }
      ]
    },
    {
      "cell_type": "code",
      "source": [
        "# Criar um novo DataFrame apenas com a coluna 'IFGF'\n",
        "data_ifgf = data_full[['IFGF']].copy()\n",
        "\n",
        "# Excluir a coluna 'IFGF' e município  do dataset_full\n",
        "data_full.drop('IFGF', axis=1, inplace=True)\n",
        "data_full.drop('Município', axis=1, inplace=True)"
      ],
      "metadata": {
        "id": "LDUhjob6y8o5"
      },
      "execution_count": null,
      "outputs": []
    },
    {
      "cell_type": "code",
      "source": [
        "data_full.shape"
      ],
      "metadata": {
        "colab": {
          "base_uri": "https://localhost:8080/"
        },
        "id": "6gN3yi7y6_zD",
        "outputId": "fcf85803-f9f0-4358-bef2-963cdb641dd9"
      },
      "execution_count": null,
      "outputs": [
        {
          "output_type": "execute_result",
          "data": {
            "text/plain": [
              "(171, 16)"
            ]
          },
          "metadata": {},
          "execution_count": 16
        }
      ]
    },
    {
      "cell_type": "markdown",
      "source": [
        "## Normalização dos dados"
      ],
      "metadata": {
        "id": "LIM218PH6ZBy"
      }
    },
    {
      "cell_type": "code",
      "source": [
        "from sklearn.preprocessing import MinMaxScaler"
      ],
      "metadata": {
        "id": "dziXBSu_mITe"
      },
      "execution_count": null,
      "outputs": []
    },
    {
      "cell_type": "code",
      "source": [
        "# Criar um objeto MinMaxScaler\n",
        "scaler = MinMaxScaler()"
      ],
      "metadata": {
        "id": "y-F_3wIC6cX8"
      },
      "execution_count": null,
      "outputs": []
    },
    {
      "cell_type": "code",
      "source": [
        "# Substituir vírgulas por pontos em todas as colunas\n",
        "data_full = data_full.replace(',', '.', regex=True)\n",
        "\n",
        "# Converter todas as colunas para tipo float\n",
        "data_full = data_full.astype(float)"
      ],
      "metadata": {
        "id": "xa-sUSQ67Qsn"
      },
      "execution_count": null,
      "outputs": []
    },
    {
      "cell_type": "code",
      "source": [
        "# Normalizar os dados do DataFrame\n",
        "data_full = scaler.fit_transform(data_full)"
      ],
      "metadata": {
        "id": "Rf8mpIecmLgN"
      },
      "execution_count": null,
      "outputs": []
    },
    {
      "cell_type": "code",
      "source": [],
      "metadata": {
        "id": "pEUMs1V98DP3"
      },
      "execution_count": null,
      "outputs": []
    },
    {
      "cell_type": "markdown",
      "source": [
        "## Criar rede neural"
      ],
      "metadata": {
        "id": "C8_7hb6F8Lvg"
      }
    },
    {
      "cell_type": "code",
      "source": [
        "from tensorflow.keras import layers\n",
        "\n",
        "model = tf.keras.Sequential()\n",
        "model.add(layers.Dense(64, activation='relu', input_shape=(171,)))  # Adjust input_dim to your input dimension\n",
        "model.add(layers.Dense(1, activation='sigmoid'))  # Output layer with sigmoid activation\n",
        "\n",
        "# Compile the model\n",
        "model.compile(optimizer='adam', loss='binary_crossentropy')"
      ],
      "metadata": {
        "id": "O-NMVrTplUB-"
      },
      "execution_count": null,
      "outputs": []
    },
    {
      "cell_type": "code",
      "source": [
        "base_de_dados = pd.read_csv('/content/drive/MyDrive/IA/Base_Treinamento_Supervisionado.csv', encoding=\"ISO-8859-1\",sep=\";\")\n",
        "base_de_dados = base_de_dados.drop('Município', axis=1)\n",
        "\n",
        "# Substituir vírgulas por pontos em todas as colunas\n",
        "base_de_dados = base_de_dados.replace(',', '.', regex=True)\n",
        "\n",
        "# Converter todas as colunas para tipo float\n",
        "base_de_dados = base_de_dados.astype(float)"
      ],
      "metadata": {
        "id": "zoxrN6R3lGP_"
      },
      "execution_count": null,
      "outputs": []
    },
    {
      "cell_type": "code",
      "source": [
        "base_de_dados"
      ],
      "metadata": {
        "colab": {
          "base_uri": "https://localhost:8080/",
          "height": 572
        },
        "id": "4eQ090XR4e2r",
        "outputId": "51ed39bf-0ec6-4fae-e7cd-be76f89c0a07"
      },
      "execution_count": null,
      "outputs": [
        {
          "output_type": "execute_result",
          "data": {
            "text/plain": [
              "       IFGF  Total de receitas realizadas (R$x1000)  \\\n",
              "0    0.6772                               276417.09   \n",
              "1    0.2418                                28548.43   \n",
              "2    0.3870                                70794.78   \n",
              "3    0.4069                                34241.63   \n",
              "4    0.3227                                74474.98   \n",
              "..      ...                                     ...   \n",
              "166  0.2970                                95867.34   \n",
              "167  0.3078                                92120.11   \n",
              "168  0.4330                                92120.11   \n",
              "169  0.3137                                92120.11   \n",
              "170  0.5691                                92120.11   \n",
              "\n",
              "     Total de despesas empenhadas (R$x1000)   IDHm  PIB per capita  \\\n",
              "0                                 247664.14  0.672        23683.22   \n",
              "1                                  24977.85  0.549         7512.63   \n",
              "2                                  68523.70  0.558         7221.77   \n",
              "3                                  32154.06  0.633        43877.65   \n",
              "4                                  67136.51  0.555         8010.30   \n",
              "..                                      ...    ...             ...   \n",
              "166                                92155.89  0.542         6630.45   \n",
              "167                                89952.74  0.618         8663.99   \n",
              "168                                60752.47  0.596         7895.55   \n",
              "169                                62014.71  0.570         8444.18   \n",
              "170                                84989.72  0.595         8779.78   \n",
              "\n",
              "     Percentual das receitas oriundas de fontes externas (%)  \\\n",
              "0                                                 74.8         \n",
              "1                                                 97.6         \n",
              "2                                                 90.2         \n",
              "3                                                 94.8         \n",
              "4                                                 95.9         \n",
              "..                                                 ...         \n",
              "166                                                NaN         \n",
              "167                                               94.8         \n",
              "168                                               91.5         \n",
              "169                                                NaN         \n",
              "170                                               96.2         \n",
              "\n",
              "     Área territorial  População  Pessoal ocupado  \\\n",
              "0           5805159.0   113783.0          16354.0   \n",
              "1            524374.0     8250.0            326.0   \n",
              "2           1875901.0    31967.0           1260.0   \n",
              "3          11127384.0    11233.0           1165.0   \n",
              "4           7439615.0    42017.0           1592.0   \n",
              "..                ...        ...              ...   \n",
              "166         1958702.0    57813.0           2575.0   \n",
              "167         1166745.0    52852.0           2521.0   \n",
              "168          716719.0    32956.0           1558.0   \n",
              "169         1193385.0    31520.0           2098.0   \n",
              "170         2140109.0    52190.0           3225.0   \n",
              "\n",
              "     Percentual população ocupada  Área Urbanizada  \\\n",
              "0                            14.5            28.63   \n",
              "1                             4.0             1.45   \n",
              "2                             3.9             5.52   \n",
              "3                            10.4             3.07   \n",
              "4                             3.8             9.44   \n",
              "..                            ...              ...   \n",
              "166                           4.5             7.96   \n",
              "167                           4.8             8.80   \n",
              "168                           4.7             6.40   \n",
              "169                           6.7             6.57   \n",
              "170                           6.2            11.31   \n",
              "\n",
              "     Salário Médio dos trabalhadores (xSalário mínimo)  \\\n",
              "0                                                  2.2   \n",
              "1                                                  1.9   \n",
              "2                                                  1.9   \n",
              "3                                                  1.8   \n",
              "4                                                  1.7   \n",
              "..                                                 ...   \n",
              "166                                                2.0   \n",
              "167                                                1.9   \n",
              "168                                                1.9   \n",
              "169                                                2.0   \n",
              "170                                                1.7   \n",
              "\n",
              "     Matrículas no ensino fundamental  Matrículas no ensino médio  \\\n",
              "0                             16830.0                      4379.0   \n",
              "1                              1140.0                       234.0   \n",
              "2                              5014.0                      1592.0   \n",
              "3                              1861.0                       333.0   \n",
              "4                              7290.0                      1370.0   \n",
              "..                                ...                         ...   \n",
              "166                            8200.0                      1740.0   \n",
              "167                            8708.0                      2298.0   \n",
              "168                            5296.0                      1685.0   \n",
              "169                            4563.0                      1367.0   \n",
              "170                            7021.0                      1852.0   \n",
              "\n",
              "     Docentes no ensino fundamental  Docentes no ensino médio  \\\n",
              "0                             771.0                     274.0   \n",
              "1                             111.0                       8.0   \n",
              "2                             325.0                     107.0   \n",
              "3                             130.0                      14.0   \n",
              "4                             556.0                     116.0   \n",
              "..                              ...                       ...   \n",
              "166                           346.0                     136.0   \n",
              "167                           511.0                      94.0   \n",
              "168                           361.0                      72.0   \n",
              "169                           375.0                      67.0   \n",
              "170                           483.0                     154.0   \n",
              "\n",
              "     Mortalidade Infantil  \n",
              "0                   13.04  \n",
              "1                     NaN  \n",
              "2                   20.45  \n",
              "3                   20.94  \n",
              "4                   17.83  \n",
              "..                    ...  \n",
              "166                  9.78  \n",
              "167                 14.07  \n",
              "168                 10.89  \n",
              "169                 16.24  \n",
              "170                 19.89  \n",
              "\n",
              "[171 rows x 17 columns]"
            ],
            "text/html": [
              "\n",
              "  <div id=\"df-f60d968f-d6ad-48ea-8d19-6a6b02677eb0\">\n",
              "    <div class=\"colab-df-container\">\n",
              "      <div>\n",
              "<style scoped>\n",
              "    .dataframe tbody tr th:only-of-type {\n",
              "        vertical-align: middle;\n",
              "    }\n",
              "\n",
              "    .dataframe tbody tr th {\n",
              "        vertical-align: top;\n",
              "    }\n",
              "\n",
              "    .dataframe thead th {\n",
              "        text-align: right;\n",
              "    }\n",
              "</style>\n",
              "<table border=\"1\" class=\"dataframe\">\n",
              "  <thead>\n",
              "    <tr style=\"text-align: right;\">\n",
              "      <th></th>\n",
              "      <th>IFGF</th>\n",
              "      <th>Total de receitas realizadas (R$x1000)</th>\n",
              "      <th>Total de despesas empenhadas (R$x1000)</th>\n",
              "      <th>IDHm</th>\n",
              "      <th>PIB per capita</th>\n",
              "      <th>Percentual das receitas oriundas de fontes externas (%)</th>\n",
              "      <th>Área territorial</th>\n",
              "      <th>População</th>\n",
              "      <th>Pessoal ocupado</th>\n",
              "      <th>Percentual população ocupada</th>\n",
              "      <th>Área Urbanizada</th>\n",
              "      <th>Salário Médio dos trabalhadores (xSalário mínimo)</th>\n",
              "      <th>Matrículas no ensino fundamental</th>\n",
              "      <th>Matrículas no ensino médio</th>\n",
              "      <th>Docentes no ensino fundamental</th>\n",
              "      <th>Docentes no ensino médio</th>\n",
              "      <th>Mortalidade Infantil</th>\n",
              "    </tr>\n",
              "  </thead>\n",
              "  <tbody>\n",
              "    <tr>\n",
              "      <th>0</th>\n",
              "      <td>0.6772</td>\n",
              "      <td>276417.09</td>\n",
              "      <td>247664.14</td>\n",
              "      <td>0.672</td>\n",
              "      <td>23683.22</td>\n",
              "      <td>74.8</td>\n",
              "      <td>5805159.0</td>\n",
              "      <td>113783.0</td>\n",
              "      <td>16354.0</td>\n",
              "      <td>14.5</td>\n",
              "      <td>28.63</td>\n",
              "      <td>2.2</td>\n",
              "      <td>16830.0</td>\n",
              "      <td>4379.0</td>\n",
              "      <td>771.0</td>\n",
              "      <td>274.0</td>\n",
              "      <td>13.04</td>\n",
              "    </tr>\n",
              "    <tr>\n",
              "      <th>1</th>\n",
              "      <td>0.2418</td>\n",
              "      <td>28548.43</td>\n",
              "      <td>24977.85</td>\n",
              "      <td>0.549</td>\n",
              "      <td>7512.63</td>\n",
              "      <td>97.6</td>\n",
              "      <td>524374.0</td>\n",
              "      <td>8250.0</td>\n",
              "      <td>326.0</td>\n",
              "      <td>4.0</td>\n",
              "      <td>1.45</td>\n",
              "      <td>1.9</td>\n",
              "      <td>1140.0</td>\n",
              "      <td>234.0</td>\n",
              "      <td>111.0</td>\n",
              "      <td>8.0</td>\n",
              "      <td>NaN</td>\n",
              "    </tr>\n",
              "    <tr>\n",
              "      <th>2</th>\n",
              "      <td>0.3870</td>\n",
              "      <td>70794.78</td>\n",
              "      <td>68523.70</td>\n",
              "      <td>0.558</td>\n",
              "      <td>7221.77</td>\n",
              "      <td>90.2</td>\n",
              "      <td>1875901.0</td>\n",
              "      <td>31967.0</td>\n",
              "      <td>1260.0</td>\n",
              "      <td>3.9</td>\n",
              "      <td>5.52</td>\n",
              "      <td>1.9</td>\n",
              "      <td>5014.0</td>\n",
              "      <td>1592.0</td>\n",
              "      <td>325.0</td>\n",
              "      <td>107.0</td>\n",
              "      <td>20.45</td>\n",
              "    </tr>\n",
              "    <tr>\n",
              "      <th>3</th>\n",
              "      <td>0.4069</td>\n",
              "      <td>34241.63</td>\n",
              "      <td>32154.06</td>\n",
              "      <td>0.633</td>\n",
              "      <td>43877.65</td>\n",
              "      <td>94.8</td>\n",
              "      <td>11127384.0</td>\n",
              "      <td>11233.0</td>\n",
              "      <td>1165.0</td>\n",
              "      <td>10.4</td>\n",
              "      <td>3.07</td>\n",
              "      <td>1.8</td>\n",
              "      <td>1861.0</td>\n",
              "      <td>333.0</td>\n",
              "      <td>130.0</td>\n",
              "      <td>14.0</td>\n",
              "      <td>20.94</td>\n",
              "    </tr>\n",
              "    <tr>\n",
              "      <th>4</th>\n",
              "      <td>0.3227</td>\n",
              "      <td>74474.98</td>\n",
              "      <td>67136.51</td>\n",
              "      <td>0.555</td>\n",
              "      <td>8010.30</td>\n",
              "      <td>95.9</td>\n",
              "      <td>7439615.0</td>\n",
              "      <td>42017.0</td>\n",
              "      <td>1592.0</td>\n",
              "      <td>3.8</td>\n",
              "      <td>9.44</td>\n",
              "      <td>1.7</td>\n",
              "      <td>7290.0</td>\n",
              "      <td>1370.0</td>\n",
              "      <td>556.0</td>\n",
              "      <td>116.0</td>\n",
              "      <td>17.83</td>\n",
              "    </tr>\n",
              "    <tr>\n",
              "      <th>...</th>\n",
              "      <td>...</td>\n",
              "      <td>...</td>\n",
              "      <td>...</td>\n",
              "      <td>...</td>\n",
              "      <td>...</td>\n",
              "      <td>...</td>\n",
              "      <td>...</td>\n",
              "      <td>...</td>\n",
              "      <td>...</td>\n",
              "      <td>...</td>\n",
              "      <td>...</td>\n",
              "      <td>...</td>\n",
              "      <td>...</td>\n",
              "      <td>...</td>\n",
              "      <td>...</td>\n",
              "      <td>...</td>\n",
              "      <td>...</td>\n",
              "    </tr>\n",
              "    <tr>\n",
              "      <th>166</th>\n",
              "      <td>0.2970</td>\n",
              "      <td>95867.34</td>\n",
              "      <td>92155.89</td>\n",
              "      <td>0.542</td>\n",
              "      <td>6630.45</td>\n",
              "      <td>NaN</td>\n",
              "      <td>1958702.0</td>\n",
              "      <td>57813.0</td>\n",
              "      <td>2575.0</td>\n",
              "      <td>4.5</td>\n",
              "      <td>7.96</td>\n",
              "      <td>2.0</td>\n",
              "      <td>8200.0</td>\n",
              "      <td>1740.0</td>\n",
              "      <td>346.0</td>\n",
              "      <td>136.0</td>\n",
              "      <td>9.78</td>\n",
              "    </tr>\n",
              "    <tr>\n",
              "      <th>167</th>\n",
              "      <td>0.3078</td>\n",
              "      <td>92120.11</td>\n",
              "      <td>89952.74</td>\n",
              "      <td>0.618</td>\n",
              "      <td>8663.99</td>\n",
              "      <td>94.8</td>\n",
              "      <td>1166745.0</td>\n",
              "      <td>52852.0</td>\n",
              "      <td>2521.0</td>\n",
              "      <td>4.8</td>\n",
              "      <td>8.80</td>\n",
              "      <td>1.9</td>\n",
              "      <td>8708.0</td>\n",
              "      <td>2298.0</td>\n",
              "      <td>511.0</td>\n",
              "      <td>94.0</td>\n",
              "      <td>14.07</td>\n",
              "    </tr>\n",
              "    <tr>\n",
              "      <th>168</th>\n",
              "      <td>0.4330</td>\n",
              "      <td>92120.11</td>\n",
              "      <td>60752.47</td>\n",
              "      <td>0.596</td>\n",
              "      <td>7895.55</td>\n",
              "      <td>91.5</td>\n",
              "      <td>716719.0</td>\n",
              "      <td>32956.0</td>\n",
              "      <td>1558.0</td>\n",
              "      <td>4.7</td>\n",
              "      <td>6.40</td>\n",
              "      <td>1.9</td>\n",
              "      <td>5296.0</td>\n",
              "      <td>1685.0</td>\n",
              "      <td>361.0</td>\n",
              "      <td>72.0</td>\n",
              "      <td>10.89</td>\n",
              "    </tr>\n",
              "    <tr>\n",
              "      <th>169</th>\n",
              "      <td>0.3137</td>\n",
              "      <td>92120.11</td>\n",
              "      <td>62014.71</td>\n",
              "      <td>0.570</td>\n",
              "      <td>8444.18</td>\n",
              "      <td>NaN</td>\n",
              "      <td>1193385.0</td>\n",
              "      <td>31520.0</td>\n",
              "      <td>2098.0</td>\n",
              "      <td>6.7</td>\n",
              "      <td>6.57</td>\n",
              "      <td>2.0</td>\n",
              "      <td>4563.0</td>\n",
              "      <td>1367.0</td>\n",
              "      <td>375.0</td>\n",
              "      <td>67.0</td>\n",
              "      <td>16.24</td>\n",
              "    </tr>\n",
              "    <tr>\n",
              "      <th>170</th>\n",
              "      <td>0.5691</td>\n",
              "      <td>92120.11</td>\n",
              "      <td>84989.72</td>\n",
              "      <td>0.595</td>\n",
              "      <td>8779.78</td>\n",
              "      <td>96.2</td>\n",
              "      <td>2140109.0</td>\n",
              "      <td>52190.0</td>\n",
              "      <td>3225.0</td>\n",
              "      <td>6.2</td>\n",
              "      <td>11.31</td>\n",
              "      <td>1.7</td>\n",
              "      <td>7021.0</td>\n",
              "      <td>1852.0</td>\n",
              "      <td>483.0</td>\n",
              "      <td>154.0</td>\n",
              "      <td>19.89</td>\n",
              "    </tr>\n",
              "  </tbody>\n",
              "</table>\n",
              "<p>171 rows × 17 columns</p>\n",
              "</div>\n",
              "      <button class=\"colab-df-convert\" onclick=\"convertToInteractive('df-f60d968f-d6ad-48ea-8d19-6a6b02677eb0')\"\n",
              "              title=\"Convert this dataframe to an interactive table.\"\n",
              "              style=\"display:none;\">\n",
              "        \n",
              "  <svg xmlns=\"http://www.w3.org/2000/svg\" height=\"24px\"viewBox=\"0 0 24 24\"\n",
              "       width=\"24px\">\n",
              "    <path d=\"M0 0h24v24H0V0z\" fill=\"none\"/>\n",
              "    <path d=\"M18.56 5.44l.94 2.06.94-2.06 2.06-.94-2.06-.94-.94-2.06-.94 2.06-2.06.94zm-11 1L8.5 8.5l.94-2.06 2.06-.94-2.06-.94L8.5 2.5l-.94 2.06-2.06.94zm10 10l.94 2.06.94-2.06 2.06-.94-2.06-.94-.94-2.06-.94 2.06-2.06.94z\"/><path d=\"M17.41 7.96l-1.37-1.37c-.4-.4-.92-.59-1.43-.59-.52 0-1.04.2-1.43.59L10.3 9.45l-7.72 7.72c-.78.78-.78 2.05 0 2.83L4 21.41c.39.39.9.59 1.41.59.51 0 1.02-.2 1.41-.59l7.78-7.78 2.81-2.81c.8-.78.8-2.07 0-2.86zM5.41 20L4 18.59l7.72-7.72 1.47 1.35L5.41 20z\"/>\n",
              "  </svg>\n",
              "      </button>\n",
              "      \n",
              "  <style>\n",
              "    .colab-df-container {\n",
              "      display:flex;\n",
              "      flex-wrap:wrap;\n",
              "      gap: 12px;\n",
              "    }\n",
              "\n",
              "    .colab-df-convert {\n",
              "      background-color: #E8F0FE;\n",
              "      border: none;\n",
              "      border-radius: 50%;\n",
              "      cursor: pointer;\n",
              "      display: none;\n",
              "      fill: #1967D2;\n",
              "      height: 32px;\n",
              "      padding: 0 0 0 0;\n",
              "      width: 32px;\n",
              "    }\n",
              "\n",
              "    .colab-df-convert:hover {\n",
              "      background-color: #E2EBFA;\n",
              "      box-shadow: 0px 1px 2px rgba(60, 64, 67, 0.3), 0px 1px 3px 1px rgba(60, 64, 67, 0.15);\n",
              "      fill: #174EA6;\n",
              "    }\n",
              "\n",
              "    [theme=dark] .colab-df-convert {\n",
              "      background-color: #3B4455;\n",
              "      fill: #D2E3FC;\n",
              "    }\n",
              "\n",
              "    [theme=dark] .colab-df-convert:hover {\n",
              "      background-color: #434B5C;\n",
              "      box-shadow: 0px 1px 3px 1px rgba(0, 0, 0, 0.15);\n",
              "      filter: drop-shadow(0px 1px 2px rgba(0, 0, 0, 0.3));\n",
              "      fill: #FFFFFF;\n",
              "    }\n",
              "  </style>\n",
              "\n",
              "      <script>\n",
              "        const buttonEl =\n",
              "          document.querySelector('#df-f60d968f-d6ad-48ea-8d19-6a6b02677eb0 button.colab-df-convert');\n",
              "        buttonEl.style.display =\n",
              "          google.colab.kernel.accessAllowed ? 'block' : 'none';\n",
              "\n",
              "        async function convertToInteractive(key) {\n",
              "          const element = document.querySelector('#df-f60d968f-d6ad-48ea-8d19-6a6b02677eb0');\n",
              "          const dataTable =\n",
              "            await google.colab.kernel.invokeFunction('convertToInteractive',\n",
              "                                                     [key], {});\n",
              "          if (!dataTable) return;\n",
              "\n",
              "          const docLinkHtml = 'Like what you see? Visit the ' +\n",
              "            '<a target=\"_blank\" href=https://colab.research.google.com/notebooks/data_table.ipynb>data table notebook</a>'\n",
              "            + ' to learn more about interactive tables.';\n",
              "          element.innerHTML = '';\n",
              "          dataTable['output_type'] = 'display_data';\n",
              "          await google.colab.output.renderOutput(dataTable, element);\n",
              "          const docLink = document.createElement('div');\n",
              "          docLink.innerHTML = docLinkHtml;\n",
              "          element.appendChild(docLink);\n",
              "        }\n",
              "      </script>\n",
              "    </div>\n",
              "  </div>\n",
              "  "
            ]
          },
          "metadata": {},
          "execution_count": 94
        }
      ]
    },
    {
      "cell_type": "code",
      "source": [
        "media_perc = base_de_dados['Percentual das receitas oriundas de fontes externas (%)'].mean()\n",
        "media_mi = base_de_dados['Mortalidade Infantil'].mean()\n",
        "\n",
        "values = {'Percentual das receitas oriundas de fontes externas (%)': media_perc, 'Mortalidade Infantil': media_mi}\n",
        "\n",
        "base_de_dados = base_de_dados.fillna(value=values)"
      ],
      "metadata": {
        "id": "tffu0SWMsF9s"
      },
      "execution_count": null,
      "outputs": []
    },
    {
      "cell_type": "code",
      "source": [
        "base_de_dados.info()"
      ],
      "metadata": {
        "colab": {
          "base_uri": "https://localhost:8080/"
        },
        "id": "e2F0n9Ue5XV4",
        "outputId": "a66312d0-17df-4ff4-976a-d6b37d2d99d9"
      },
      "execution_count": null,
      "outputs": [
        {
          "output_type": "stream",
          "name": "stdout",
          "text": [
            "<class 'pandas.core.frame.DataFrame'>\n",
            "RangeIndex: 171 entries, 0 to 170\n",
            "Data columns (total 17 columns):\n",
            " #   Column                                                   Non-Null Count  Dtype  \n",
            "---  ------                                                   --------------  -----  \n",
            " 0   IFGF                                                     171 non-null    float64\n",
            " 1   Total de receitas realizadas (R$x1000)                   171 non-null    float64\n",
            " 2   Total de despesas empenhadas (R$x1000)                   171 non-null    float64\n",
            " 3   IDHm                                                     171 non-null    float64\n",
            " 4   PIB per capita                                           171 non-null    float64\n",
            " 5   Percentual das receitas oriundas de fontes externas (%)  171 non-null    float64\n",
            " 6   Área territorial                                         171 non-null    float64\n",
            " 7   População                                                171 non-null    float64\n",
            " 8   Pessoal ocupado                                          171 non-null    float64\n",
            " 9   Percentual população ocupada                             171 non-null    float64\n",
            " 10  Área Urbanizada                                          171 non-null    float64\n",
            " 11  Salário Médio dos trabalhadores (xSalário mínimo)        171 non-null    float64\n",
            " 12  Matrículas no ensino fundamental                         171 non-null    float64\n",
            " 13  Matrículas no ensino médio                               171 non-null    float64\n",
            " 14  Docentes no ensino fundamental                           171 non-null    float64\n",
            " 15  Docentes no ensino médio                                 171 non-null    float64\n",
            " 16  Mortalidade Infantil                                     171 non-null    float64\n",
            "dtypes: float64(17)\n",
            "memory usage: 22.8 KB\n"
          ]
        }
      ]
    },
    {
      "cell_type": "code",
      "source": [
        "from sklearn.model_selection import train_test_split\n",
        "\n",
        "train_data, valid_data = train_test_split(base_de_dados, test_size=0.2, random_state=42)"
      ],
      "metadata": {
        "id": "7Ie-xxewtAzl"
      },
      "execution_count": null,
      "outputs": []
    },
    {
      "cell_type": "code",
      "source": [
        "features_train = train_data.drop('IFGF', axis=1)\n",
        "target_train = train_data['IFGF']\n",
        "\n",
        "features_valid = valid_data.drop('IFGF', axis=1)\n",
        "target_valid = valid_data['IFGF']"
      ],
      "metadata": {
        "id": "zcT84CN-sHoX"
      },
      "execution_count": null,
      "outputs": []
    },
    {
      "cell_type": "code",
      "source": [
        "features_train.shape, target_train.shape"
      ],
      "metadata": {
        "colab": {
          "base_uri": "https://localhost:8080/"
        },
        "id": "eCMkfMk4wEsc",
        "outputId": "aa2a8ad3-bd15-4ad1-ea2d-d234c97d1df8"
      },
      "execution_count": null,
      "outputs": [
        {
          "output_type": "execute_result",
          "data": {
            "text/plain": [
              "((136, 16), (136,))"
            ]
          },
          "metadata": {},
          "execution_count": 117
        }
      ]
    },
    {
      "cell_type": "code",
      "source": [
        "from sklearn.preprocessing import MinMaxScaler\n",
        "scaler = MinMaxScaler()\n",
        "\n",
        "target_x = target_train.values.reshape(-1,1)\n",
        "target_y = target_valid.values.reshape(-1,1)\n"
      ],
      "metadata": {
        "id": "5n6LGiD8scM2"
      },
      "execution_count": null,
      "outputs": []
    },
    {
      "cell_type": "code",
      "source": [
        "target_x.shape"
      ],
      "metadata": {
        "colab": {
          "base_uri": "https://localhost:8080/"
        },
        "id": "1IsW78zP0Vs3",
        "outputId": "3795120a-c838-4833-ba9a-21306277f030"
      },
      "execution_count": null,
      "outputs": [
        {
          "output_type": "execute_result",
          "data": {
            "text/plain": [
              "(136, 1)"
            ]
          },
          "metadata": {},
          "execution_count": 119
        }
      ]
    },
    {
      "cell_type": "code",
      "source": [
        "x_train = scaler.fit_transform(features_train)\n",
        "y_train = scaler.fit_transform(target_x)\n",
        "x_valid = scaler.fit_transform(features_valid)\n",
        "y_valid = scaler.fit_transform(target_y)"
      ],
      "metadata": {
        "id": "qNhC8evqyftG"
      },
      "execution_count": null,
      "outputs": []
    },
    {
      "cell_type": "code",
      "source": [
        "x_train.shape, y_train.shape"
      ],
      "metadata": {
        "colab": {
          "base_uri": "https://localhost:8080/"
        },
        "id": "qhaZYBRZ0dEA",
        "outputId": "8eb9cee3-7b94-4484-af80-bb3b90190cf0"
      },
      "execution_count": null,
      "outputs": [
        {
          "output_type": "execute_result",
          "data": {
            "text/plain": [
              "((136, 16), (136, 1))"
            ]
          },
          "metadata": {},
          "execution_count": 121
        }
      ]
    },
    {
      "cell_type": "code",
      "source": [
        "model = tf.keras.models.Sequential()\n",
        "model.add(tf.keras.layers.Dense(units=100, activation='relu', input_shape=(16, )))\n",
        "model.add(tf.keras.layers.Dense(units=100, activation='relu'))\n",
        "model.add(tf.keras.layers.Dense(units=100, activation='relu'))\n",
        "model.add(tf.keras.layers.Dense(units=1, activation='sigmoid'))"
      ],
      "metadata": {
        "id": "K3yXj6_PxFxu"
      },
      "execution_count": null,
      "outputs": []
    },
    {
      "cell_type": "code",
      "source": [
        "model.summary()"
      ],
      "metadata": {
        "colab": {
          "base_uri": "https://localhost:8080/"
        },
        "id": "g3gCGIAixL9f",
        "outputId": "3eb72581-1cd1-48dc-829e-f4175e1d9f3e"
      },
      "execution_count": null,
      "outputs": [
        {
          "output_type": "stream",
          "name": "stdout",
          "text": [
            "Model: \"sequential_5\"\n",
            "_________________________________________________________________\n",
            " Layer (type)                Output Shape              Param #   \n",
            "=================================================================\n",
            " dense_20 (Dense)            (None, 100)               1700      \n",
            "                                                                 \n",
            " dense_21 (Dense)            (None, 100)               10100     \n",
            "                                                                 \n",
            " dense_22 (Dense)            (None, 100)               10100     \n",
            "                                                                 \n",
            " dense_23 (Dense)            (None, 1)                 101       \n",
            "                                                                 \n",
            "=================================================================\n",
            "Total params: 22,001\n",
            "Trainable params: 22,001\n",
            "Non-trainable params: 0\n",
            "_________________________________________________________________\n"
          ]
        }
      ]
    },
    {
      "cell_type": "code",
      "source": [
        "model.compile(optimizer='adam', loss='binary_crossentropy')"
      ],
      "metadata": {
        "id": "BMTObtUgxT2A"
      },
      "execution_count": null,
      "outputs": []
    },
    {
      "cell_type": "code",
      "source": [
        "epochs_hist = model.fit(x=x_train, y=y_train, epochs = 5, batch_size = 50,validation_data=(x_valid, y_valid))"
      ],
      "metadata": {
        "colab": {
          "base_uri": "https://localhost:8080/"
        },
        "id": "27P-y6V0xVIa",
        "outputId": "5ed123a8-6118-4841-8821-99fbd49d6f65"
      },
      "execution_count": null,
      "outputs": [
        {
          "output_type": "stream",
          "name": "stdout",
          "text": [
            "Epoch 1/5\n",
            "3/3 [==============================] - 2s 88ms/step - loss: 0.6892 - val_loss: 0.6744\n",
            "Epoch 2/5\n",
            "3/3 [==============================] - 0s 16ms/step - loss: 0.6841 - val_loss: 0.6647\n",
            "Epoch 3/5\n",
            "3/3 [==============================] - 0s 19ms/step - loss: 0.6830 - val_loss: 0.6640\n",
            "Epoch 4/5\n",
            "3/3 [==============================] - 0s 16ms/step - loss: 0.6813 - val_loss: 0.6710\n",
            "Epoch 5/5\n",
            "3/3 [==============================] - 0s 16ms/step - loss: 0.6794 - val_loss: 0.6821\n"
          ]
        }
      ]
    },
    {
      "cell_type": "markdown",
      "source": [
        "# 171 municipios analisados\n"
      ],
      "metadata": {
        "id": "qY2bnXX0vkk8"
      }
    },
    {
      "cell_type": "code",
      "source": [],
      "metadata": {
        "id": "FNQCwtdWuW-1"
      },
      "execution_count": null,
      "outputs": []
    }
  ]
}