{
  "nbformat": 4,
  "nbformat_minor": 0,
  "metadata": {
    "colab": {
      "provenance": [],
      "gpuType": "T4",
      "include_colab_link": true
    },
    "kernelspec": {
      "name": "python3",
      "display_name": "Python 3"
    },
    "language_info": {
      "name": "python"
    },
    "accelerator": "GPU"
  },
  "cells": [
    {
      "cell_type": "markdown",
      "metadata": {
        "id": "view-in-github",
        "colab_type": "text"
      },
      "source": [
        "<a href=\"https://colab.research.google.com/github/nervaljunior/AI-SolverNet-Deep-Learning-for-Dataset/blob/main/Untitled0.ipynb\" target=\"_parent\"><img src=\"https://colab.research.google.com/assets/colab-badge.svg\" alt=\"Open In Colab\"/></a>"
      ]
    },
    {
      "cell_type": "code",
      "source": [
        "import pandas as pd\n",
        "import numpy as np\n",
        "import matplotlib\n",
        "import matplotlib.pyplot as plt\n",
        "import plotly.express as px\n",
        "import random"
      ],
      "metadata": {
        "id": "7Mzal0rPIieL"
      },
      "execution_count": 2,
      "outputs": []
    },
    {
      "cell_type": "code",
      "source": [
        "from google.colab import drive\n",
        "\n",
        "drive.mount('/content/drive')"
      ],
      "metadata": {
        "colab": {
          "base_uri": "https://localhost:8080/"
        },
        "id": "ShFBn5Lo_ZyF",
        "outputId": "0385d652-387c-4a3b-a8bb-92cbb3d3c080"
      },
      "execution_count": 3,
      "outputs": [
        {
          "output_type": "stream",
          "name": "stdout",
          "text": [
            "Mounted at /content/drive\n"
          ]
        }
      ]
    },
    {
      "cell_type": "code",
      "source": [
        "df_treinamento_supervisionado = pd.read_csv('/content/drive/MyDrive/IA/TRABALHO/Base_Treinamento_Supervisionado.csv', encoding=\"ISO-8859-1\",sep=\";\")\n",
        "df_treinamento_supervisionado.tail()"
      ],
      "metadata": {
        "colab": {
          "base_uri": "https://localhost:8080/",
          "height": 372
        },
        "id": "QbTfe6ts_ziE",
        "outputId": "603beb3d-181d-463a-bebb-74753b8af3c0"
      },
      "execution_count": 4,
      "outputs": [
        {
          "output_type": "execute_result",
          "data": {
            "text/plain": [
              "             Município    IFGF Total de receitas realizadas (R$x1000)  \\\n",
              "166      Vargem Grande   0,297                               95867,34   \n",
              "167              Viana  0,3078                               92120,11   \n",
              "168  Vitória do Mearim   0,433                               92120,11   \n",
              "169    Vitorino Freire  0,3137                               92120,11   \n",
              "170            Zé Doca  0,5691                               92120,11   \n",
              "\n",
              "    Total de despesas empenhadas (R$x1000)   IDHm PIB per capita  \\\n",
              "166                               92155,89  0,542        6630,45   \n",
              "167                               89952,74  0,618        8663,99   \n",
              "168                               60752,47  0,596        7895,55   \n",
              "169                               62014,71   0,57        8444,18   \n",
              "170                               84989,72  0,595        8779,78   \n",
              "\n",
              "    Percentual das receitas oriundas de fontes externas (%)  Área territorial  \\\n",
              "166                                                NaN                1958702   \n",
              "167                                               94,8                1166745   \n",
              "168                                               91,5                 716719   \n",
              "169                                                NaN                1193385   \n",
              "170                                               96,2                2140109   \n",
              "\n",
              "     População  Pessoal ocupado Percentual população ocupada Área Urbanizada  \\\n",
              "166      57813             2575                          4,5            7,96   \n",
              "167      52852             2521                          4,8             8,8   \n",
              "168      32956             1558                          4,7             6,4   \n",
              "169      31520             2098                          6,7            6,57   \n",
              "170      52190             3225                          6,2           11,31   \n",
              "\n",
              "    Salário Médio dos trabalhadores (xSalário mínimo)  \\\n",
              "166                                                 2   \n",
              "167                                               1,9   \n",
              "168                                               1,9   \n",
              "169                                                 2   \n",
              "170                                               1,7   \n",
              "\n",
              "     Matrículas no ensino fundamental  Matrículas no ensino médio  \\\n",
              "166                              8200                        1740   \n",
              "167                              8708                        2298   \n",
              "168                              5296                        1685   \n",
              "169                              4563                        1367   \n",
              "170                              7021                        1852   \n",
              "\n",
              "     Docentes no ensino fundamental  Docentes no ensino médio  \\\n",
              "166                             346                       136   \n",
              "167                             511                        94   \n",
              "168                             361                        72   \n",
              "169                             375                        67   \n",
              "170                             483                       154   \n",
              "\n",
              "    Mortalidade Infantil  \n",
              "166                 9,78  \n",
              "167                14,07  \n",
              "168                10,89  \n",
              "169                16,24  \n",
              "170                19,89  "
            ],
            "text/html": [
              "\n",
              "  <div id=\"df-9437d099-5cb8-4052-b70b-f7ede92e74f6\">\n",
              "    <div class=\"colab-df-container\">\n",
              "      <div>\n",
              "<style scoped>\n",
              "    .dataframe tbody tr th:only-of-type {\n",
              "        vertical-align: middle;\n",
              "    }\n",
              "\n",
              "    .dataframe tbody tr th {\n",
              "        vertical-align: top;\n",
              "    }\n",
              "\n",
              "    .dataframe thead th {\n",
              "        text-align: right;\n",
              "    }\n",
              "</style>\n",
              "<table border=\"1\" class=\"dataframe\">\n",
              "  <thead>\n",
              "    <tr style=\"text-align: right;\">\n",
              "      <th></th>\n",
              "      <th>Município</th>\n",
              "      <th>IFGF</th>\n",
              "      <th>Total de receitas realizadas (R$x1000)</th>\n",
              "      <th>Total de despesas empenhadas (R$x1000)</th>\n",
              "      <th>IDHm</th>\n",
              "      <th>PIB per capita</th>\n",
              "      <th>Percentual das receitas oriundas de fontes externas (%)</th>\n",
              "      <th>Área territorial</th>\n",
              "      <th>População</th>\n",
              "      <th>Pessoal ocupado</th>\n",
              "      <th>Percentual população ocupada</th>\n",
              "      <th>Área Urbanizada</th>\n",
              "      <th>Salário Médio dos trabalhadores (xSalário mínimo)</th>\n",
              "      <th>Matrículas no ensino fundamental</th>\n",
              "      <th>Matrículas no ensino médio</th>\n",
              "      <th>Docentes no ensino fundamental</th>\n",
              "      <th>Docentes no ensino médio</th>\n",
              "      <th>Mortalidade Infantil</th>\n",
              "    </tr>\n",
              "  </thead>\n",
              "  <tbody>\n",
              "    <tr>\n",
              "      <th>166</th>\n",
              "      <td>Vargem Grande</td>\n",
              "      <td>0,297</td>\n",
              "      <td>95867,34</td>\n",
              "      <td>92155,89</td>\n",
              "      <td>0,542</td>\n",
              "      <td>6630,45</td>\n",
              "      <td>NaN</td>\n",
              "      <td>1958702</td>\n",
              "      <td>57813</td>\n",
              "      <td>2575</td>\n",
              "      <td>4,5</td>\n",
              "      <td>7,96</td>\n",
              "      <td>2</td>\n",
              "      <td>8200</td>\n",
              "      <td>1740</td>\n",
              "      <td>346</td>\n",
              "      <td>136</td>\n",
              "      <td>9,78</td>\n",
              "    </tr>\n",
              "    <tr>\n",
              "      <th>167</th>\n",
              "      <td>Viana</td>\n",
              "      <td>0,3078</td>\n",
              "      <td>92120,11</td>\n",
              "      <td>89952,74</td>\n",
              "      <td>0,618</td>\n",
              "      <td>8663,99</td>\n",
              "      <td>94,8</td>\n",
              "      <td>1166745</td>\n",
              "      <td>52852</td>\n",
              "      <td>2521</td>\n",
              "      <td>4,8</td>\n",
              "      <td>8,8</td>\n",
              "      <td>1,9</td>\n",
              "      <td>8708</td>\n",
              "      <td>2298</td>\n",
              "      <td>511</td>\n",
              "      <td>94</td>\n",
              "      <td>14,07</td>\n",
              "    </tr>\n",
              "    <tr>\n",
              "      <th>168</th>\n",
              "      <td>Vitória do Mearim</td>\n",
              "      <td>0,433</td>\n",
              "      <td>92120,11</td>\n",
              "      <td>60752,47</td>\n",
              "      <td>0,596</td>\n",
              "      <td>7895,55</td>\n",
              "      <td>91,5</td>\n",
              "      <td>716719</td>\n",
              "      <td>32956</td>\n",
              "      <td>1558</td>\n",
              "      <td>4,7</td>\n",
              "      <td>6,4</td>\n",
              "      <td>1,9</td>\n",
              "      <td>5296</td>\n",
              "      <td>1685</td>\n",
              "      <td>361</td>\n",
              "      <td>72</td>\n",
              "      <td>10,89</td>\n",
              "    </tr>\n",
              "    <tr>\n",
              "      <th>169</th>\n",
              "      <td>Vitorino Freire</td>\n",
              "      <td>0,3137</td>\n",
              "      <td>92120,11</td>\n",
              "      <td>62014,71</td>\n",
              "      <td>0,57</td>\n",
              "      <td>8444,18</td>\n",
              "      <td>NaN</td>\n",
              "      <td>1193385</td>\n",
              "      <td>31520</td>\n",
              "      <td>2098</td>\n",
              "      <td>6,7</td>\n",
              "      <td>6,57</td>\n",
              "      <td>2</td>\n",
              "      <td>4563</td>\n",
              "      <td>1367</td>\n",
              "      <td>375</td>\n",
              "      <td>67</td>\n",
              "      <td>16,24</td>\n",
              "    </tr>\n",
              "    <tr>\n",
              "      <th>170</th>\n",
              "      <td>Zé Doca</td>\n",
              "      <td>0,5691</td>\n",
              "      <td>92120,11</td>\n",
              "      <td>84989,72</td>\n",
              "      <td>0,595</td>\n",
              "      <td>8779,78</td>\n",
              "      <td>96,2</td>\n",
              "      <td>2140109</td>\n",
              "      <td>52190</td>\n",
              "      <td>3225</td>\n",
              "      <td>6,2</td>\n",
              "      <td>11,31</td>\n",
              "      <td>1,7</td>\n",
              "      <td>7021</td>\n",
              "      <td>1852</td>\n",
              "      <td>483</td>\n",
              "      <td>154</td>\n",
              "      <td>19,89</td>\n",
              "    </tr>\n",
              "  </tbody>\n",
              "</table>\n",
              "</div>\n",
              "      <button class=\"colab-df-convert\" onclick=\"convertToInteractive('df-9437d099-5cb8-4052-b70b-f7ede92e74f6')\"\n",
              "              title=\"Convert this dataframe to an interactive table.\"\n",
              "              style=\"display:none;\">\n",
              "        \n",
              "  <svg xmlns=\"http://www.w3.org/2000/svg\" height=\"24px\"viewBox=\"0 0 24 24\"\n",
              "       width=\"24px\">\n",
              "    <path d=\"M0 0h24v24H0V0z\" fill=\"none\"/>\n",
              "    <path d=\"M18.56 5.44l.94 2.06.94-2.06 2.06-.94-2.06-.94-.94-2.06-.94 2.06-2.06.94zm-11 1L8.5 8.5l.94-2.06 2.06-.94-2.06-.94L8.5 2.5l-.94 2.06-2.06.94zm10 10l.94 2.06.94-2.06 2.06-.94-2.06-.94-.94-2.06-.94 2.06-2.06.94z\"/><path d=\"M17.41 7.96l-1.37-1.37c-.4-.4-.92-.59-1.43-.59-.52 0-1.04.2-1.43.59L10.3 9.45l-7.72 7.72c-.78.78-.78 2.05 0 2.83L4 21.41c.39.39.9.59 1.41.59.51 0 1.02-.2 1.41-.59l7.78-7.78 2.81-2.81c.8-.78.8-2.07 0-2.86zM5.41 20L4 18.59l7.72-7.72 1.47 1.35L5.41 20z\"/>\n",
              "  </svg>\n",
              "      </button>\n",
              "      \n",
              "  <style>\n",
              "    .colab-df-container {\n",
              "      display:flex;\n",
              "      flex-wrap:wrap;\n",
              "      gap: 12px;\n",
              "    }\n",
              "\n",
              "    .colab-df-convert {\n",
              "      background-color: #E8F0FE;\n",
              "      border: none;\n",
              "      border-radius: 50%;\n",
              "      cursor: pointer;\n",
              "      display: none;\n",
              "      fill: #1967D2;\n",
              "      height: 32px;\n",
              "      padding: 0 0 0 0;\n",
              "      width: 32px;\n",
              "    }\n",
              "\n",
              "    .colab-df-convert:hover {\n",
              "      background-color: #E2EBFA;\n",
              "      box-shadow: 0px 1px 2px rgba(60, 64, 67, 0.3), 0px 1px 3px 1px rgba(60, 64, 67, 0.15);\n",
              "      fill: #174EA6;\n",
              "    }\n",
              "\n",
              "    [theme=dark] .colab-df-convert {\n",
              "      background-color: #3B4455;\n",
              "      fill: #D2E3FC;\n",
              "    }\n",
              "\n",
              "    [theme=dark] .colab-df-convert:hover {\n",
              "      background-color: #434B5C;\n",
              "      box-shadow: 0px 1px 3px 1px rgba(0, 0, 0, 0.15);\n",
              "      filter: drop-shadow(0px 1px 2px rgba(0, 0, 0, 0.3));\n",
              "      fill: #FFFFFF;\n",
              "    }\n",
              "  </style>\n",
              "\n",
              "      <script>\n",
              "        const buttonEl =\n",
              "          document.querySelector('#df-9437d099-5cb8-4052-b70b-f7ede92e74f6 button.colab-df-convert');\n",
              "        buttonEl.style.display =\n",
              "          google.colab.kernel.accessAllowed ? 'block' : 'none';\n",
              "\n",
              "        async function convertToInteractive(key) {\n",
              "          const element = document.querySelector('#df-9437d099-5cb8-4052-b70b-f7ede92e74f6');\n",
              "          const dataTable =\n",
              "            await google.colab.kernel.invokeFunction('convertToInteractive',\n",
              "                                                     [key], {});\n",
              "          if (!dataTable) return;\n",
              "\n",
              "          const docLinkHtml = 'Like what you see? Visit the ' +\n",
              "            '<a target=\"_blank\" href=https://colab.research.google.com/notebooks/data_table.ipynb>data table notebook</a>'\n",
              "            + ' to learn more about interactive tables.';\n",
              "          element.innerHTML = '';\n",
              "          dataTable['output_type'] = 'display_data';\n",
              "          await google.colab.output.renderOutput(dataTable, element);\n",
              "          const docLink = document.createElement('div');\n",
              "          docLink.innerHTML = docLinkHtml;\n",
              "          element.appendChild(docLink);\n",
              "        }\n",
              "      </script>\n",
              "    </div>\n",
              "  </div>\n",
              "  "
            ]
          },
          "metadata": {},
          "execution_count": 4
        }
      ]
    },
    {
      "cell_type": "code",
      "source": [
        "df_treinamento_supervisionado['IFGF'].replace(',','.',regex=True)"
      ],
      "metadata": {
        "colab": {
          "base_uri": "https://localhost:8080/"
        },
        "id": "fnrRXxDDjlWf",
        "outputId": "d70c9128-da80-4748-aa12-5e901a41f9a9"
      },
      "execution_count": 5,
      "outputs": [
        {
          "output_type": "execute_result",
          "data": {
            "text/plain": [
              "0      0.6772\n",
              "1      0.2418\n",
              "2       0.387\n",
              "3      0.4069\n",
              "4      0.3227\n",
              "        ...  \n",
              "166     0.297\n",
              "167    0.3078\n",
              "168     0.433\n",
              "169    0.3137\n",
              "170    0.5691\n",
              "Name: IFGF, Length: 171, dtype: object"
            ]
          },
          "metadata": {},
          "execution_count": 5
        }
      ]
    },
    {
      "cell_type": "code",
      "source": [
        "from google.colab import drive\n",
        "drive.mount('/content/drive')"
      ],
      "metadata": {
        "id": "SnjOpCRawzI_",
        "colab": {
          "base_uri": "https://localhost:8080/"
        },
        "outputId": "126df9c6-d42c-4b53-e140-8b9d455d4741"
      },
      "execution_count": 6,
      "outputs": [
        {
          "output_type": "stream",
          "name": "stdout",
          "text": [
            "Drive already mounted at /content/drive; to attempt to forcibly remount, call drive.mount(\"/content/drive\", force_remount=True).\n"
          ]
        }
      ]
    },
    {
      "cell_type": "code",
      "source": [
        "df_base_de_dados = pd.read_csv('/content/drive/MyDrive/IA/TRABALHO/base_de_avaliacao.csv',sep=\";\")\n",
        "df_base_de_dados.head()"
      ],
      "metadata": {
        "colab": {
          "base_uri": "https://localhost:8080/",
          "height": 407
        },
        "id": "vRxNyIRlAFip",
        "outputId": "480732ff-79e9-4893-aeb0-e285a733da7d"
      },
      "execution_count": 7,
      "outputs": [
        {
          "output_type": "execute_result",
          "data": {
            "text/plain": [
              "                 Município IFGF Total de receitas realizadas (R$x1000)  \\\n",
              "0  Alto Alegre do Maranhão    ?                               48180,12   \n",
              "1                    Arame    ?                               69273,85   \n",
              "2          Barão de Grajaú    ?                               39740,96   \n",
              "3                   Cajari    ?                               41227,11   \n",
              "4    Conceição do Lago-Açu    ?                               35309,92   \n",
              "\n",
              "  Total de despesas empenhadas (R$x1000)   IDHm PIB per capita  \\\n",
              "0                               47273,24  0,554        8770,52   \n",
              "1                               71709,47  0,521        5902,11   \n",
              "2                                40114,7  0,592       11816,72   \n",
              "3                               34447,37  0,523        5748,61   \n",
              "4                               33722,37  0,512        8146,21   \n",
              "\n",
              "  Percentual das receitas oriundas de fontes externas (%)  Área territorial  \\\n",
              "0                                               95,4                 392750   \n",
              "1                                                NaN                1789730   \n",
              "2                                               97,5                2209414   \n",
              "3                                               98,5                 662066   \n",
              "4                                               99,1                 725664   \n",
              "\n",
              "   População  Pessoal ocupado Percentual população ocupada Área Urbanizada  \\\n",
              "0      28066              978                          3,5            6,56   \n",
              "1      47095             2146                          4,6            9,38   \n",
              "2      19026             1581                          8,4            5,19   \n",
              "3      19521              642                          3,3            2,04   \n",
              "4      16559              787                          4,8            2,28   \n",
              "\n",
              "  Salário Médio dos trabalhadores (xSalário mínimo)  \\\n",
              "0                                               1,5   \n",
              "1                                               2,1   \n",
              "2                                               1,6   \n",
              "3                                               1,7   \n",
              "4                                               2,4   \n",
              "\n",
              "   Matrículas no ensino fundamental  Matrículas no ensino médio  \\\n",
              "0                              4260                        1166   \n",
              "1                              6620                        1450   \n",
              "2                              2571                         735   \n",
              "3                              3413                         673   \n",
              "4                              3428                         423   \n",
              "\n",
              "   Docentes no ensino fundamental  Docentes no ensino médio  \\\n",
              "0                             276                        46   \n",
              "1                             446                        78   \n",
              "2                             190                        52   \n",
              "3                             311                        26   \n",
              "4                             260                        17   \n",
              "\n",
              "  Mortalidade Infantil  \n",
              "0                15,11  \n",
              "1                12,68  \n",
              "2                14,98  \n",
              "3                19,61  \n",
              "4                20,75  "
            ],
            "text/html": [
              "\n",
              "  <div id=\"df-bf5ca8d7-ccc3-4de4-8eea-7624353a2c72\">\n",
              "    <div class=\"colab-df-container\">\n",
              "      <div>\n",
              "<style scoped>\n",
              "    .dataframe tbody tr th:only-of-type {\n",
              "        vertical-align: middle;\n",
              "    }\n",
              "\n",
              "    .dataframe tbody tr th {\n",
              "        vertical-align: top;\n",
              "    }\n",
              "\n",
              "    .dataframe thead th {\n",
              "        text-align: right;\n",
              "    }\n",
              "</style>\n",
              "<table border=\"1\" class=\"dataframe\">\n",
              "  <thead>\n",
              "    <tr style=\"text-align: right;\">\n",
              "      <th></th>\n",
              "      <th>Município</th>\n",
              "      <th>IFGF</th>\n",
              "      <th>Total de receitas realizadas (R$x1000)</th>\n",
              "      <th>Total de despesas empenhadas (R$x1000)</th>\n",
              "      <th>IDHm</th>\n",
              "      <th>PIB per capita</th>\n",
              "      <th>Percentual das receitas oriundas de fontes externas (%)</th>\n",
              "      <th>Área territorial</th>\n",
              "      <th>População</th>\n",
              "      <th>Pessoal ocupado</th>\n",
              "      <th>Percentual população ocupada</th>\n",
              "      <th>Área Urbanizada</th>\n",
              "      <th>Salário Médio dos trabalhadores (xSalário mínimo)</th>\n",
              "      <th>Matrículas no ensino fundamental</th>\n",
              "      <th>Matrículas no ensino médio</th>\n",
              "      <th>Docentes no ensino fundamental</th>\n",
              "      <th>Docentes no ensino médio</th>\n",
              "      <th>Mortalidade Infantil</th>\n",
              "    </tr>\n",
              "  </thead>\n",
              "  <tbody>\n",
              "    <tr>\n",
              "      <th>0</th>\n",
              "      <td>Alto Alegre do Maranhão</td>\n",
              "      <td>?</td>\n",
              "      <td>48180,12</td>\n",
              "      <td>47273,24</td>\n",
              "      <td>0,554</td>\n",
              "      <td>8770,52</td>\n",
              "      <td>95,4</td>\n",
              "      <td>392750</td>\n",
              "      <td>28066</td>\n",
              "      <td>978</td>\n",
              "      <td>3,5</td>\n",
              "      <td>6,56</td>\n",
              "      <td>1,5</td>\n",
              "      <td>4260</td>\n",
              "      <td>1166</td>\n",
              "      <td>276</td>\n",
              "      <td>46</td>\n",
              "      <td>15,11</td>\n",
              "    </tr>\n",
              "    <tr>\n",
              "      <th>1</th>\n",
              "      <td>Arame</td>\n",
              "      <td>?</td>\n",
              "      <td>69273,85</td>\n",
              "      <td>71709,47</td>\n",
              "      <td>0,521</td>\n",
              "      <td>5902,11</td>\n",
              "      <td>NaN</td>\n",
              "      <td>1789730</td>\n",
              "      <td>47095</td>\n",
              "      <td>2146</td>\n",
              "      <td>4,6</td>\n",
              "      <td>9,38</td>\n",
              "      <td>2,1</td>\n",
              "      <td>6620</td>\n",
              "      <td>1450</td>\n",
              "      <td>446</td>\n",
              "      <td>78</td>\n",
              "      <td>12,68</td>\n",
              "    </tr>\n",
              "    <tr>\n",
              "      <th>2</th>\n",
              "      <td>Barão de Grajaú</td>\n",
              "      <td>?</td>\n",
              "      <td>39740,96</td>\n",
              "      <td>40114,7</td>\n",
              "      <td>0,592</td>\n",
              "      <td>11816,72</td>\n",
              "      <td>97,5</td>\n",
              "      <td>2209414</td>\n",
              "      <td>19026</td>\n",
              "      <td>1581</td>\n",
              "      <td>8,4</td>\n",
              "      <td>5,19</td>\n",
              "      <td>1,6</td>\n",
              "      <td>2571</td>\n",
              "      <td>735</td>\n",
              "      <td>190</td>\n",
              "      <td>52</td>\n",
              "      <td>14,98</td>\n",
              "    </tr>\n",
              "    <tr>\n",
              "      <th>3</th>\n",
              "      <td>Cajari</td>\n",
              "      <td>?</td>\n",
              "      <td>41227,11</td>\n",
              "      <td>34447,37</td>\n",
              "      <td>0,523</td>\n",
              "      <td>5748,61</td>\n",
              "      <td>98,5</td>\n",
              "      <td>662066</td>\n",
              "      <td>19521</td>\n",
              "      <td>642</td>\n",
              "      <td>3,3</td>\n",
              "      <td>2,04</td>\n",
              "      <td>1,7</td>\n",
              "      <td>3413</td>\n",
              "      <td>673</td>\n",
              "      <td>311</td>\n",
              "      <td>26</td>\n",
              "      <td>19,61</td>\n",
              "    </tr>\n",
              "    <tr>\n",
              "      <th>4</th>\n",
              "      <td>Conceição do Lago-Açu</td>\n",
              "      <td>?</td>\n",
              "      <td>35309,92</td>\n",
              "      <td>33722,37</td>\n",
              "      <td>0,512</td>\n",
              "      <td>8146,21</td>\n",
              "      <td>99,1</td>\n",
              "      <td>725664</td>\n",
              "      <td>16559</td>\n",
              "      <td>787</td>\n",
              "      <td>4,8</td>\n",
              "      <td>2,28</td>\n",
              "      <td>2,4</td>\n",
              "      <td>3428</td>\n",
              "      <td>423</td>\n",
              "      <td>260</td>\n",
              "      <td>17</td>\n",
              "      <td>20,75</td>\n",
              "    </tr>\n",
              "  </tbody>\n",
              "</table>\n",
              "</div>\n",
              "      <button class=\"colab-df-convert\" onclick=\"convertToInteractive('df-bf5ca8d7-ccc3-4de4-8eea-7624353a2c72')\"\n",
              "              title=\"Convert this dataframe to an interactive table.\"\n",
              "              style=\"display:none;\">\n",
              "        \n",
              "  <svg xmlns=\"http://www.w3.org/2000/svg\" height=\"24px\"viewBox=\"0 0 24 24\"\n",
              "       width=\"24px\">\n",
              "    <path d=\"M0 0h24v24H0V0z\" fill=\"none\"/>\n",
              "    <path d=\"M18.56 5.44l.94 2.06.94-2.06 2.06-.94-2.06-.94-.94-2.06-.94 2.06-2.06.94zm-11 1L8.5 8.5l.94-2.06 2.06-.94-2.06-.94L8.5 2.5l-.94 2.06-2.06.94zm10 10l.94 2.06.94-2.06 2.06-.94-2.06-.94-.94-2.06-.94 2.06-2.06.94z\"/><path d=\"M17.41 7.96l-1.37-1.37c-.4-.4-.92-.59-1.43-.59-.52 0-1.04.2-1.43.59L10.3 9.45l-7.72 7.72c-.78.78-.78 2.05 0 2.83L4 21.41c.39.39.9.59 1.41.59.51 0 1.02-.2 1.41-.59l7.78-7.78 2.81-2.81c.8-.78.8-2.07 0-2.86zM5.41 20L4 18.59l7.72-7.72 1.47 1.35L5.41 20z\"/>\n",
              "  </svg>\n",
              "      </button>\n",
              "      \n",
              "  <style>\n",
              "    .colab-df-container {\n",
              "      display:flex;\n",
              "      flex-wrap:wrap;\n",
              "      gap: 12px;\n",
              "    }\n",
              "\n",
              "    .colab-df-convert {\n",
              "      background-color: #E8F0FE;\n",
              "      border: none;\n",
              "      border-radius: 50%;\n",
              "      cursor: pointer;\n",
              "      display: none;\n",
              "      fill: #1967D2;\n",
              "      height: 32px;\n",
              "      padding: 0 0 0 0;\n",
              "      width: 32px;\n",
              "    }\n",
              "\n",
              "    .colab-df-convert:hover {\n",
              "      background-color: #E2EBFA;\n",
              "      box-shadow: 0px 1px 2px rgba(60, 64, 67, 0.3), 0px 1px 3px 1px rgba(60, 64, 67, 0.15);\n",
              "      fill: #174EA6;\n",
              "    }\n",
              "\n",
              "    [theme=dark] .colab-df-convert {\n",
              "      background-color: #3B4455;\n",
              "      fill: #D2E3FC;\n",
              "    }\n",
              "\n",
              "    [theme=dark] .colab-df-convert:hover {\n",
              "      background-color: #434B5C;\n",
              "      box-shadow: 0px 1px 3px 1px rgba(0, 0, 0, 0.15);\n",
              "      filter: drop-shadow(0px 1px 2px rgba(0, 0, 0, 0.3));\n",
              "      fill: #FFFFFF;\n",
              "    }\n",
              "  </style>\n",
              "\n",
              "      <script>\n",
              "        const buttonEl =\n",
              "          document.querySelector('#df-bf5ca8d7-ccc3-4de4-8eea-7624353a2c72 button.colab-df-convert');\n",
              "        buttonEl.style.display =\n",
              "          google.colab.kernel.accessAllowed ? 'block' : 'none';\n",
              "\n",
              "        async function convertToInteractive(key) {\n",
              "          const element = document.querySelector('#df-bf5ca8d7-ccc3-4de4-8eea-7624353a2c72');\n",
              "          const dataTable =\n",
              "            await google.colab.kernel.invokeFunction('convertToInteractive',\n",
              "                                                     [key], {});\n",
              "          if (!dataTable) return;\n",
              "\n",
              "          const docLinkHtml = 'Like what you see? Visit the ' +\n",
              "            '<a target=\"_blank\" href=https://colab.research.google.com/notebooks/data_table.ipynb>data table notebook</a>'\n",
              "            + ' to learn more about interactive tables.';\n",
              "          element.innerHTML = '';\n",
              "          dataTable['output_type'] = 'display_data';\n",
              "          await google.colab.output.renderOutput(dataTable, element);\n",
              "          const docLink = document.createElement('div');\n",
              "          docLink.innerHTML = docLinkHtml;\n",
              "          element.appendChild(docLink);\n",
              "        }\n",
              "      </script>\n",
              "    </div>\n",
              "  </div>\n",
              "  "
            ]
          },
          "metadata": {},
          "execution_count": 7
        }
      ]
    },
    {
      "cell_type": "code",
      "source": [
        "import tensorflow as tf"
      ],
      "metadata": {
        "id": "xMSMHJxTHMf9"
      },
      "execution_count": 8,
      "outputs": []
    },
    {
      "cell_type": "markdown",
      "source": [
        "# Inteligência Artificial\n",
        "## Trabalho Final 2023.1\n"
      ],
      "metadata": {
        "id": "qeG4WkBHLGle"
      }
    },
    {
      "cell_type": "markdown",
      "source": [
        "### Nesse trabalho iremos desenvolver uma rede neural para solucionar o problema da cadeira de inteligencia Artificial\n"
      ],
      "metadata": {
        "id": "Ou61p8GXHcLB"
      }
    },
    {
      "cell_type": "markdown",
      "source": [
        "➢ A base de dados é do Índice Firjan, que é composto por quatro indicadores que\n",
        "representam o quanto um município está sendo bem administrado:\n",
        "\n",
        "➢ Autonomia, que é a capacidade de financiar a estrutura administrativa;\n",
        "\n",
        "➢ Gastos com Pessoal, que significa o grau de rigidez do orçamento;\n",
        "\n",
        "➢ Liquidez, que trata do cumprimento das obrigações financeiras das prefeituras;\n",
        "\n",
        "➢ Investimentos, que é a capacidade de gerar bem-estar e competitividade.\n",
        "\n",
        "➢ Acompanham os dados do Índice Firjan informações geopolíticas e econômicas de\n",
        "cada município."
      ],
      "metadata": {
        "id": "cQTEjPKgLcZm"
      }
    },
    {
      "cell_type": "code",
      "source": [],
      "metadata": {
        "id": "evfuycqILgqc"
      },
      "execution_count": null,
      "outputs": []
    },
    {
      "cell_type": "markdown",
      "source": [
        "O índice varia entre 0 e 1 e quanto maior, melhor é a gestão fiscal do\n",
        "município.\n",
        "\n",
        "➢ Cada cidade é classificada com conceitos:\n",
        "\n",
        "➢ A (Gestão de Excelência, acima de 0,8001 pontos),\n",
        "\n",
        "➢ B (Boa Gestão, entre 0,6001 e 0,8),\n",
        "\n",
        "➢ C (Gestão em Dificuldade, entre 0,4001 e 0,6) ou\n",
        "\n",
        "➢ D (Gestão Crítica, inferiores a 0,4 pontos)"
      ],
      "metadata": {
        "id": "me4_M9UDLsQ0"
      }
    },
    {
      "cell_type": "code",
      "source": [],
      "metadata": {
        "id": "bJRp9hj-LvVC"
      },
      "execution_count": null,
      "outputs": []
    },
    {
      "cell_type": "markdown",
      "source": [
        "# Objetivo\n",
        "* Seu objetivo é, a partir da “base de treino supervisionado”, criar um modelo de\n",
        "classificação para identificar municípios que estão em nível de Gestão Crítica (D).\n",
        "\n",
        "* Após a criação do modelo, aplique-o sobre a “base de avaliação” e defina quais\n",
        "municípios estão em situação de gestão crítica"
      ],
      "metadata": {
        "id": "-MgJsFhuL9Yp"
      }
    },
    {
      "cell_type": "code",
      "source": [],
      "metadata": {
        "id": "eZv3Tl0EME9c"
      },
      "execution_count": null,
      "outputs": []
    },
    {
      "cell_type": "markdown",
      "source": [
        "# Classificadores\n",
        "### Cada grupo deverá escolher um dos seguintes algoritmos de aprendizagem para utilizar no trabalho:\n",
        "\n",
        "* K-Means\n",
        "* K-Nearest Neighbor (KNN)\n",
        "* Regressão Linear\n",
        "* Regressão Logística\n",
        "* Árvore de Decisão\n",
        "* Naïve Bayes\n",
        "* Suport Vector Machine (SVM)\n",
        "* Redes Neurais\n"
      ],
      "metadata": {
        "id": "EuotY5edMMBq"
      }
    },
    {
      "cell_type": "code",
      "source": [],
      "metadata": {
        "id": "05k6DMFeMXn6"
      },
      "execution_count": null,
      "outputs": []
    },
    {
      "cell_type": "markdown",
      "source": [
        "# Seminário e Relatório\n",
        "### Montem um seminário sobre o classificador escolhido, explicando seu funcionamento e os principais parâmetros que devem ser configurados. O seminário deve ter no máximo 15 minutos de duração.\n",
        "### Por fim, apresente o resultado da classificação das instâncias desconhecidas, criando um relatório de como foram realizadas as etapas de criação de modelo de classificação, treino, teste, parametrização, e o que mais for importante para o entendimento"
      ],
      "metadata": {
        "id": "nPYBvDsvMp_G"
      }
    },
    {
      "cell_type": "markdown",
      "source": [
        "# Ferramentas\n",
        "### Utilize uma das ferramentas para realizar os experimentos:\n",
        "- Laws Miner: https://alexandreronald.shinyapps.io/LawsMiner/\n",
        "- WEKA: https://www.cs.waikato.ac.nz/ml/weka/\n",
        "- R: https://www.r-project.org/\n",
        "- Orange: https://orangedatamining.com/\n",
        "- SciKit Learn: https://scikit-learn.org/stable/\n",
        "- Ou faça sua própria implementação.\n"
      ],
      "metadata": {
        "id": "q4VqDGuAM8v6"
      }
    },
    {
      "cell_type": "code",
      "source": [],
      "metadata": {
        "id": "1LT5vsgoNBeF"
      },
      "execution_count": null,
      "outputs": []
    },
    {
      "cell_type": "markdown",
      "source": [
        "# Código louco\n"
      ],
      "metadata": {
        "id": "-if_KF-XS3V6"
      }
    },
    {
      "cell_type": "code",
      "source": [
        "import tensorflow as tf\n",
        "import pandas as pd\n",
        "import numpy as np\n",
        "import seaborn as sns\n",
        "import matplotlib.pyplot as plt"
      ],
      "metadata": {
        "id": "LtwHV5J0S5y4"
      },
      "execution_count": 9,
      "outputs": []
    },
    {
      "cell_type": "code",
      "source": [
        "data_full = pd.read_csv('/content/drive/MyDrive/IA/TRABALHO/Base_Treinamento_Supervisionado.csv', encoding=\"ISO-8859-1\",sep=\";\")"
      ],
      "metadata": {
        "id": "JniBX43XS4r4"
      },
      "execution_count": 12,
      "outputs": []
    },
    {
      "cell_type": "code",
      "source": [
        "# numero de colunas, numero de linhas\n",
        "data_full.shape[1], data_full.shape[0]"
      ],
      "metadata": {
        "colab": {
          "base_uri": "https://localhost:8080/"
        },
        "id": "vKE3AXzNoJ4S",
        "outputId": "b48605da-ee06-442a-da4d-b2958d3540ec"
      },
      "execution_count": 13,
      "outputs": [
        {
          "output_type": "execute_result",
          "data": {
            "text/plain": [
              "(18, 171)"
            ]
          },
          "metadata": {},
          "execution_count": 13
        }
      ]
    },
    {
      "cell_type": "code",
      "source": [
        "# listar colunas\n",
        "data_full.columns.tolist()"
      ],
      "metadata": {
        "colab": {
          "base_uri": "https://localhost:8080/"
        },
        "id": "yAC2kYNvbALd",
        "outputId": "1d0bdc17-ad0d-4932-8d71-7b49f5f8045d"
      },
      "execution_count": 14,
      "outputs": [
        {
          "output_type": "execute_result",
          "data": {
            "text/plain": [
              "['Município',\n",
              " 'IFGF',\n",
              " 'Total de receitas realizadas (R$x1000)',\n",
              " 'Total de despesas empenhadas (R$x1000)',\n",
              " 'IDHm',\n",
              " 'PIB per capita',\n",
              " 'Percentual das receitas oriundas de fontes externas (%)',\n",
              " 'Área territorial',\n",
              " 'População',\n",
              " 'Pessoal ocupado',\n",
              " 'Percentual população ocupada',\n",
              " 'Área Urbanizada',\n",
              " 'Salário Médio dos trabalhadores (xSalário mínimo)',\n",
              " 'Matrículas no ensino fundamental',\n",
              " 'Matrículas no ensino médio',\n",
              " 'Docentes no ensino fundamental',\n",
              " 'Docentes no ensino médio',\n",
              " 'Mortalidade Infantil']"
            ]
          },
          "metadata": {},
          "execution_count": 14
        }
      ]
    },
    {
      "cell_type": "code",
      "source": [
        "# Criar um novo DataFrame apenas com a coluna 'IFGF'\n",
        "data_ifgf = data_full[['IFGF']].copy()\n",
        "\n",
        "# Excluir a coluna 'IFGF' e município  do dataset_full\n",
        "data_full.drop('IFGF', axis=1, inplace=True)\n",
        "data_full.drop('Município', axis=1, inplace=True)"
      ],
      "metadata": {
        "id": "LDUhjob6y8o5"
      },
      "execution_count": 15,
      "outputs": []
    },
    {
      "cell_type": "code",
      "source": [
        "data_full.shape"
      ],
      "metadata": {
        "colab": {
          "base_uri": "https://localhost:8080/"
        },
        "id": "6gN3yi7y6_zD",
        "outputId": "fcf85803-f9f0-4358-bef2-963cdb641dd9"
      },
      "execution_count": 16,
      "outputs": [
        {
          "output_type": "execute_result",
          "data": {
            "text/plain": [
              "(171, 16)"
            ]
          },
          "metadata": {},
          "execution_count": 16
        }
      ]
    },
    {
      "cell_type": "markdown",
      "source": [
        "## Normalização dos dados"
      ],
      "metadata": {
        "id": "LIM218PH6ZBy"
      }
    },
    {
      "cell_type": "code",
      "source": [
        "from sklearn.preprocessing import MinMaxScaler"
      ],
      "metadata": {
        "id": "dziXBSu_mITe"
      },
      "execution_count": 17,
      "outputs": []
    },
    {
      "cell_type": "code",
      "source": [
        "# Criar um objeto MinMaxScaler\n",
        "scaler = MinMaxScaler()"
      ],
      "metadata": {
        "id": "y-F_3wIC6cX8"
      },
      "execution_count": 18,
      "outputs": []
    },
    {
      "cell_type": "code",
      "source": [
        "# Substituir vírgulas por pontos em todas as colunas\n",
        "data_full = data_full.replace(',', '.', regex=True)\n",
        "\n",
        "# Converter todas as colunas para tipo float\n",
        "data_full = data_full.astype(float)"
      ],
      "metadata": {
        "id": "xa-sUSQ67Qsn"
      },
      "execution_count": 19,
      "outputs": []
    },
    {
      "cell_type": "code",
      "source": [
        "# Normalizar os dados do DataFrame\n",
        "data_full = scaler.fit_transform(data_full)"
      ],
      "metadata": {
        "id": "Rf8mpIecmLgN"
      },
      "execution_count": 20,
      "outputs": []
    },
    {
      "cell_type": "code",
      "source": [],
      "metadata": {
        "id": "pEUMs1V98DP3"
      },
      "execution_count": null,
      "outputs": []
    },
    {
      "cell_type": "markdown",
      "source": [
        "## Criar rede neural"
      ],
      "metadata": {
        "id": "C8_7hb6F8Lvg"
      }
    },
    {
      "cell_type": "code",
      "source": [
        "from tensorflow.keras import layers\n",
        "\n",
        "model = tf.keras.Sequential()\n",
        "model.add(layers.Dense(64, activation='relu', input_shape=(171,)))  # Adjust input_dim to your input dimension\n",
        "model.add(layers.Dense(1, activation='sigmoid'))  # Output layer with sigmoid activation\n",
        "\n",
        "# Compile the model\n",
        "model.compile(optimizer='adam', loss='binary_crossentropy')"
      ],
      "metadata": {
        "id": "O-NMVrTplUB-"
      },
      "execution_count": 21,
      "outputs": []
    },
    {
      "cell_type": "code",
      "source": [
        "model.fit(x_train, epochs=5, validation_data=y_train)"
      ],
      "metadata": {
        "colab": {
          "base_uri": "https://localhost:8080/",
          "height": 165
        },
        "id": "d_28sTOSmxez",
        "outputId": "80dff8ff-4aee-44a6-8f5a-956121b13439"
      },
      "execution_count": 22,
      "outputs": [
        {
          "output_type": "error",
          "ename": "NameError",
          "evalue": "ignored",
          "traceback": [
            "\u001b[0;31m---------------------------------------------------------------------------\u001b[0m",
            "\u001b[0;31mNameError\u001b[0m                                 Traceback (most recent call last)",
            "\u001b[0;32m<ipython-input-22-32d678d43d19>\u001b[0m in \u001b[0;36m<cell line: 1>\u001b[0;34m()\u001b[0m\n\u001b[0;32m----> 1\u001b[0;31m \u001b[0mmodel\u001b[0m\u001b[0;34m.\u001b[0m\u001b[0mfit\u001b[0m\u001b[0;34m(\u001b[0m\u001b[0mx_train\u001b[0m\u001b[0;34m,\u001b[0m \u001b[0mepochs\u001b[0m\u001b[0;34m=\u001b[0m\u001b[0;36m5\u001b[0m\u001b[0;34m,\u001b[0m \u001b[0mvalidation_data\u001b[0m\u001b[0;34m=\u001b[0m\u001b[0my_train\u001b[0m\u001b[0;34m)\u001b[0m\u001b[0;34m\u001b[0m\u001b[0;34m\u001b[0m\u001b[0m\n\u001b[0m",
            "\u001b[0;31mNameError\u001b[0m: name 'x_train' is not defined"
          ]
        }
      ]
    },
    {
      "cell_type": "code",
      "source": [],
      "metadata": {
        "id": "zoxrN6R3lGP_"
      },
      "execution_count": null,
      "outputs": []
    }
  ]
}